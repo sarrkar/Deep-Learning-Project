{
 "cells": [
  {
   "cell_type": "code",
   "execution_count": 1,
   "metadata": {},
   "outputs": [],
   "source": [
    "import torch\n",
    "import torch.nn as nn\n",
    "import torch.nn.functional as F\n",
    "from transformers import AutoModel, AutoTokenizer\n",
    "\n",
    "device = torch.device(\"cuda\" if torch.cuda.is_available() else \"cpu\")"
   ]
  },
  {
   "cell_type": "markdown",
   "metadata": {},
   "source": [
    "# Dataset"
   ]
  },
  {
   "cell_type": "code",
   "execution_count": 20,
   "metadata": {},
   "outputs": [
    {
     "name": "stderr",
     "output_type": "stream",
     "text": [
      "Reading ../Datasets/subtaskB_train.jsonl: 71027it [01:19, 895.07it/s] \n",
      "Reading ../Datasets/subtaskB_dev.jsonl: 3000it [00:02, 1297.54it/s]\n"
     ]
    }
   ],
   "source": [
    "from torch.utils.data import Dataset, DataLoader\n",
    "from tqdm import tqdm\n",
    "import json\n",
    "\n",
    "class SemEvalDataset(Dataset):\n",
    "    def __init__(self, file_path):\n",
    "        self.tokenizer = AutoTokenizer.from_pretrained('bert-base-cased')\n",
    "        self.data = []\n",
    "        with open(file_path, 'r') as file:\n",
    "            for line in tqdm(file, desc=f\"Reading {file_path}\"):\n",
    "                line_data = json.loads(line)\n",
    "                text = line_data['text']\n",
    "                inputs = self.tokenizer(text, return_tensors=\"pt\", padding='max_length', truncation=True, max_length=128)\n",
    "                self.data.append({\n",
    "                    'input_ids': inputs['input_ids'].squeeze(),\n",
    "                    'attention_mask': inputs['attention_mask'].squeeze(),\n",
    "                    'labels': line_data['label']\n",
    "                })\n",
    "    \n",
    "    def __len__(self):\n",
    "        return len(self.data)\n",
    "    \n",
    "    def __getitem__(self, idx):\n",
    "        return self.data[idx]\n",
    "\n",
    "train_dataset = SemEvalDataset('../Dataset/subtaskB_train.jsonl')\n",
    "test_dataset = SemEvalDataset('../Dataset/subtaskB_dev.jsonl')\n",
    "test_loader = DataLoader(test_dataset, batch_size=64, shuffle=False)"
   ]
  },
  {
   "cell_type": "code",
   "execution_count": 21,
   "metadata": {},
   "outputs": [],
   "source": [
    "from torch.utils.data import RandomSampler\n",
    "\n",
    "trainset_size = len(train_dataset)\n",
    "sample_1_percentage = 1\n",
    "generator = torch.Generator().manual_seed(42)\n",
    "sample_1_sampler = RandomSampler(train_dataset, replacement=True, num_samples=int(trainset_size * sample_1_percentage / 100), generator=generator)\n",
    "sample_1_loader = DataLoader(train_dataset, batch_size=32, sampler=sample_1_sampler)\n",
    "sample_2_percentage = 5\n",
    "generator = torch.Generator().manual_seed(42)\n",
    "sample_2_sampler = RandomSampler(train_dataset, replacement=True, num_samples=int(trainset_size * sample_2_percentage / 100), generator=generator)\n",
    "sample_2_loader = DataLoader(train_dataset, batch_size=32, sampler=sample_2_sampler)\n",
    "sample_3_percentage = 10\n",
    "generator = torch.Generator().manual_seed(42)\n",
    "sample_3_sampler = RandomSampler(train_dataset, replacement=True, num_samples=int(trainset_size * sample_3_percentage / 100), generator=generator)\n",
    "sample_3_loader = DataLoader(train_dataset, batch_size=32, sampler=sample_3_sampler)\n",
    "sample_4_percentage = 50\n",
    "generator = torch.Generator().manual_seed(42)\n",
    "sample_4_sampler = RandomSampler(train_dataset, replacement=True, num_samples=int(trainset_size * sample_4_percentage / 100), generator=generator)\n",
    "sample_4_loader = DataLoader(train_dataset, batch_size=32, sampler=sample_4_sampler)"
   ]
  },
  {
   "cell_type": "markdown",
   "metadata": {},
   "source": [
    "# BERT Classifier"
   ]
  },
  {
   "cell_type": "code",
   "execution_count": 10,
   "metadata": {},
   "outputs": [],
   "source": [
    "class BERTClassifier(nn.Module):\n",
    "    def __init__(self, num_classes):\n",
    "        super(BERTClassifier, self).__init__()\n",
    "        self.bert = AutoModel.from_pretrained('bert-base-cased')\n",
    "        self.classifier = nn.Linear(768, num_classes)\n",
    "    \n",
    "    def forward(self, input_ids, attention_mask):\n",
    "        outputs = self.bert(input_ids, attention_mask=attention_mask)\n",
    "        return self.classifier(outputs.pooler_output)"
   ]
  },
  {
   "cell_type": "code",
   "execution_count": 11,
   "metadata": {},
   "outputs": [],
   "source": [
    "import matplotlib.pyplot as plt\n",
    "\n",
    "def evaluate(model, loader):\n",
    "    model.eval()\n",
    "    correct = 0\n",
    "    total = 0\n",
    "    with torch.no_grad():\n",
    "        pbar = tqdm(loader)\n",
    "        for batch in pbar:\n",
    "            input_ids = batch['input_ids'].to(device)\n",
    "            attention_mask = batch['attention_mask'].to(device)\n",
    "            labels = batch['labels'].to(device)\n",
    "            outputs = model(input_ids, attention_mask=attention_mask)\n",
    "            _, predicted = torch.max(outputs, 1)\n",
    "            correct += (predicted == labels).sum().item()\n",
    "            total += labels.size(0)\n",
    "            pbar.set_description(f\"Accuracy: {correct / total}\")\n",
    "    return correct / total\n",
    "\n",
    "def train(model, loader, epochs=3):\n",
    "    criterion = nn.CrossEntropyLoss()\n",
    "    optimizer = torch.optim.AdamW(model.parameters(), lr=5e-5)\n",
    "    accuracys = []\n",
    "    for epoch in range(epochs):\n",
    "        model.train()\n",
    "        for batch in tqdm(loader, desc=f\"Epoch {epoch+1}/{epochs}\"):\n",
    "            input_ids = batch['input_ids'].to(device)\n",
    "            attention_mask = batch['attention_mask'].to(device)\n",
    "            labels = batch['labels'].to(device)\n",
    "            optimizer.zero_grad()\n",
    "            outputs = model(input_ids, attention_mask=attention_mask)\n",
    "            loss = criterion(outputs, labels)\n",
    "            loss.backward()\n",
    "            optimizer.step()\n",
    "        accuracy = evaluate(model, test_loader)\n",
    "        accuracys.append(accuracy)\n",
    "        print(f\"Epoch {epoch+1}/{epochs} - Accuracy: {accuracy}\")\n",
    "    return accuracys\n",
    "\n",
    "def plot(accuracys, name):\n",
    "    plt.plot(accuracys)\n",
    "    plt.title(name)\n",
    "    plt.xlabel('Epoch')\n",
    "    plt.ylabel('Accuracy')\n",
    "    plt.savefig(f'../Plots/{name}.png')\n",
    "    save_results(accuracys, name)\n",
    "    plt.show()\n",
    "\n",
    "def save_results(accuracys, name):\n",
    "    with open(f'../Results/{name}.txt', 'w') as file:\n",
    "        for accuracy in accuracys:\n",
    "            file.write(f\"{accuracy}\\n\")"
   ]
  },
  {
   "cell_type": "markdown",
   "metadata": {},
   "source": [
    "## No Adapter"
   ]
  },
  {
   "cell_type": "markdown",
   "metadata": {},
   "source": [
    "### 1%"
   ]
  },
  {
   "cell_type": "code",
   "execution_count": 6,
   "metadata": {},
   "outputs": [
    {
     "name": "stderr",
     "output_type": "stream",
     "text": [
      "Epoch 1/30: 100%|██████████| 12/12 [00:07<00:00,  1.61it/s]\n",
      "Accuracy: 0.15033333333333335: 100%|██████████| 47/47 [00:07<00:00,  6.35it/s] \n"
     ]
    },
    {
     "name": "stdout",
     "output_type": "stream",
     "text": [
      "Epoch 1/30 - Accuracy: 0.15033333333333335\n"
     ]
    },
    {
     "name": "stderr",
     "output_type": "stream",
     "text": [
      "Epoch 2/30: 100%|██████████| 12/12 [00:05<00:00,  2.26it/s]\n",
      "Accuracy: 0.188: 100%|██████████| 47/47 [00:07<00:00,  6.22it/s]              \n"
     ]
    },
    {
     "name": "stdout",
     "output_type": "stream",
     "text": [
      "Epoch 2/30 - Accuracy: 0.188\n"
     ]
    },
    {
     "name": "stderr",
     "output_type": "stream",
     "text": [
      "Epoch 3/30: 100%|██████████| 12/12 [00:05<00:00,  2.06it/s]\n",
      "Accuracy: 0.192: 100%|██████████| 47/47 [00:07<00:00,  5.88it/s]               \n"
     ]
    },
    {
     "name": "stdout",
     "output_type": "stream",
     "text": [
      "Epoch 3/30 - Accuracy: 0.192\n"
     ]
    },
    {
     "name": "stderr",
     "output_type": "stream",
     "text": [
      "Epoch 4/30: 100%|██████████| 12/12 [00:06<00:00,  1.88it/s]\n",
      "Accuracy: 0.22166666666666668: 100%|██████████| 47/47 [00:09<00:00,  5.03it/s]\n"
     ]
    },
    {
     "name": "stdout",
     "output_type": "stream",
     "text": [
      "Epoch 4/30 - Accuracy: 0.22166666666666668\n"
     ]
    },
    {
     "name": "stderr",
     "output_type": "stream",
     "text": [
      "Epoch 5/30: 100%|██████████| 12/12 [00:06<00:00,  1.78it/s]\n",
      "Accuracy: 0.2836666666666667: 100%|██████████| 47/47 [00:10<00:00,  4.45it/s] \n"
     ]
    },
    {
     "name": "stdout",
     "output_type": "stream",
     "text": [
      "Epoch 5/30 - Accuracy: 0.2836666666666667\n"
     ]
    },
    {
     "name": "stderr",
     "output_type": "stream",
     "text": [
      "Epoch 6/30: 100%|██████████| 12/12 [00:07<00:00,  1.63it/s]\n",
      "Accuracy: 0.27666666666666667: 100%|██████████| 47/47 [00:11<00:00,  4.02it/s]\n"
     ]
    },
    {
     "name": "stdout",
     "output_type": "stream",
     "text": [
      "Epoch 6/30 - Accuracy: 0.27666666666666667\n"
     ]
    },
    {
     "name": "stderr",
     "output_type": "stream",
     "text": [
      "Epoch 7/30: 100%|██████████| 12/12 [00:07<00:00,  1.62it/s]\n",
      "Accuracy: 0.42133333333333334: 100%|██████████| 47/47 [00:11<00:00,  4.21it/s]\n"
     ]
    },
    {
     "name": "stdout",
     "output_type": "stream",
     "text": [
      "Epoch 7/30 - Accuracy: 0.42133333333333334\n"
     ]
    },
    {
     "name": "stderr",
     "output_type": "stream",
     "text": [
      "Epoch 8/30: 100%|██████████| 12/12 [00:07<00:00,  1.57it/s]\n",
      "Accuracy: 0.39166666666666666: 100%|██████████| 47/47 [00:10<00:00,  4.28it/s]\n"
     ]
    },
    {
     "name": "stdout",
     "output_type": "stream",
     "text": [
      "Epoch 8/30 - Accuracy: 0.39166666666666666\n"
     ]
    },
    {
     "name": "stderr",
     "output_type": "stream",
     "text": [
      "Epoch 9/30: 100%|██████████| 12/12 [00:07<00:00,  1.60it/s]\n",
      "Accuracy: 0.37933333333333336: 100%|██████████| 47/47 [00:11<00:00,  4.27it/s]\n"
     ]
    },
    {
     "name": "stdout",
     "output_type": "stream",
     "text": [
      "Epoch 9/30 - Accuracy: 0.37933333333333336\n"
     ]
    },
    {
     "name": "stderr",
     "output_type": "stream",
     "text": [
      "Epoch 10/30: 100%|██████████| 12/12 [00:07<00:00,  1.56it/s]\n",
      "Accuracy: 0.4196666666666667: 100%|██████████| 47/47 [00:11<00:00,  4.10it/s] \n"
     ]
    },
    {
     "name": "stdout",
     "output_type": "stream",
     "text": [
      "Epoch 10/30 - Accuracy: 0.4196666666666667\n"
     ]
    },
    {
     "name": "stderr",
     "output_type": "stream",
     "text": [
      "Epoch 11/30: 100%|██████████| 12/12 [00:07<00:00,  1.61it/s]\n",
      "Accuracy: 0.43633333333333335: 100%|██████████| 47/47 [00:11<00:00,  3.97it/s]\n"
     ]
    },
    {
     "name": "stdout",
     "output_type": "stream",
     "text": [
      "Epoch 11/30 - Accuracy: 0.43633333333333335\n"
     ]
    },
    {
     "name": "stderr",
     "output_type": "stream",
     "text": [
      "Epoch 12/30: 100%|██████████| 12/12 [00:07<00:00,  1.61it/s]\n",
      "Accuracy: 0.45: 100%|██████████| 47/47 [00:11<00:00,  4.08it/s]               \n"
     ]
    },
    {
     "name": "stdout",
     "output_type": "stream",
     "text": [
      "Epoch 12/30 - Accuracy: 0.45\n"
     ]
    },
    {
     "name": "stderr",
     "output_type": "stream",
     "text": [
      "Epoch 13/30: 100%|██████████| 12/12 [00:07<00:00,  1.59it/s]\n",
      "Accuracy: 0.375: 100%|██████████| 47/47 [00:11<00:00,  4.03it/s]              \n"
     ]
    },
    {
     "name": "stdout",
     "output_type": "stream",
     "text": [
      "Epoch 13/30 - Accuracy: 0.375\n"
     ]
    },
    {
     "name": "stderr",
     "output_type": "stream",
     "text": [
      "Epoch 14/30: 100%|██████████| 12/12 [00:07<00:00,  1.57it/s]\n",
      "Accuracy: 0.38533333333333336: 100%|██████████| 47/47 [00:11<00:00,  4.18it/s]\n"
     ]
    },
    {
     "name": "stdout",
     "output_type": "stream",
     "text": [
      "Epoch 14/30 - Accuracy: 0.38533333333333336\n"
     ]
    },
    {
     "name": "stderr",
     "output_type": "stream",
     "text": [
      "Epoch 15/30: 100%|██████████| 12/12 [00:07<00:00,  1.58it/s]\n",
      "Accuracy: 0.3943333333333333: 100%|██████████| 47/47 [00:11<00:00,  4.19it/s] \n"
     ]
    },
    {
     "name": "stdout",
     "output_type": "stream",
     "text": [
      "Epoch 15/30 - Accuracy: 0.3943333333333333\n"
     ]
    },
    {
     "name": "stderr",
     "output_type": "stream",
     "text": [
      "Epoch 16/30: 100%|██████████| 12/12 [00:07<00:00,  1.57it/s]\n",
      "Accuracy: 0.41933333333333334: 100%|██████████| 47/47 [00:11<00:00,  4.14it/s]\n"
     ]
    },
    {
     "name": "stdout",
     "output_type": "stream",
     "text": [
      "Epoch 16/30 - Accuracy: 0.41933333333333334\n"
     ]
    },
    {
     "name": "stderr",
     "output_type": "stream",
     "text": [
      "Epoch 17/30: 100%|██████████| 12/12 [00:07<00:00,  1.53it/s]\n",
      "Accuracy: 0.363: 100%|██████████| 47/47 [00:11<00:00,  4.20it/s]               \n"
     ]
    },
    {
     "name": "stdout",
     "output_type": "stream",
     "text": [
      "Epoch 17/30 - Accuracy: 0.363\n"
     ]
    },
    {
     "name": "stderr",
     "output_type": "stream",
     "text": [
      "Epoch 18/30: 100%|██████████| 12/12 [00:07<00:00,  1.58it/s]\n",
      "Accuracy: 0.39566666666666667: 100%|██████████| 47/47 [00:11<00:00,  4.20it/s]\n"
     ]
    },
    {
     "name": "stdout",
     "output_type": "stream",
     "text": [
      "Epoch 18/30 - Accuracy: 0.39566666666666667\n"
     ]
    },
    {
     "name": "stderr",
     "output_type": "stream",
     "text": [
      "Epoch 19/30: 100%|██████████| 12/12 [00:07<00:00,  1.58it/s]\n",
      "Accuracy: 0.41233333333333333: 100%|██████████| 47/47 [00:11<00:00,  4.20it/s]\n"
     ]
    },
    {
     "name": "stdout",
     "output_type": "stream",
     "text": [
      "Epoch 19/30 - Accuracy: 0.41233333333333333\n"
     ]
    },
    {
     "name": "stderr",
     "output_type": "stream",
     "text": [
      "Epoch 20/30: 100%|██████████| 12/12 [00:07<00:00,  1.58it/s]\n",
      "Accuracy: 0.44333333333333336: 100%|██████████| 47/47 [00:11<00:00,  4.19it/s]\n"
     ]
    },
    {
     "name": "stdout",
     "output_type": "stream",
     "text": [
      "Epoch 20/30 - Accuracy: 0.44333333333333336\n"
     ]
    },
    {
     "name": "stderr",
     "output_type": "stream",
     "text": [
      "Epoch 21/30: 100%|██████████| 12/12 [00:07<00:00,  1.58it/s]\n",
      "Accuracy: 0.44233333333333336: 100%|██████████| 47/47 [00:11<00:00,  4.19it/s]\n"
     ]
    },
    {
     "name": "stdout",
     "output_type": "stream",
     "text": [
      "Epoch 21/30 - Accuracy: 0.44233333333333336\n"
     ]
    },
    {
     "name": "stderr",
     "output_type": "stream",
     "text": [
      "Epoch 22/30: 100%|██████████| 12/12 [00:07<00:00,  1.58it/s]\n",
      "Accuracy: 0.385: 100%|██████████| 47/47 [00:11<00:00,  4.02it/s]              \n"
     ]
    },
    {
     "name": "stdout",
     "output_type": "stream",
     "text": [
      "Epoch 22/30 - Accuracy: 0.385\n"
     ]
    },
    {
     "name": "stderr",
     "output_type": "stream",
     "text": [
      "Epoch 23/30: 100%|██████████| 12/12 [00:07<00:00,  1.55it/s]\n",
      "Accuracy: 0.36733333333333335: 100%|██████████| 47/47 [00:12<00:00,  3.90it/s]\n"
     ]
    },
    {
     "name": "stdout",
     "output_type": "stream",
     "text": [
      "Epoch 23/30 - Accuracy: 0.36733333333333335\n"
     ]
    },
    {
     "name": "stderr",
     "output_type": "stream",
     "text": [
      "Epoch 24/30: 100%|██████████| 12/12 [00:07<00:00,  1.55it/s]\n",
      "Accuracy: 0.436: 100%|██████████| 47/47 [00:11<00:00,  3.94it/s]              \n"
     ]
    },
    {
     "name": "stdout",
     "output_type": "stream",
     "text": [
      "Epoch 24/30 - Accuracy: 0.436\n"
     ]
    },
    {
     "name": "stderr",
     "output_type": "stream",
     "text": [
      "Epoch 25/30: 100%|██████████| 12/12 [00:08<00:00,  1.49it/s]\n",
      "Accuracy: 0.416: 100%|██████████| 47/47 [00:11<00:00,  4.06it/s]              \n"
     ]
    },
    {
     "name": "stdout",
     "output_type": "stream",
     "text": [
      "Epoch 25/30 - Accuracy: 0.416\n"
     ]
    },
    {
     "name": "stderr",
     "output_type": "stream",
     "text": [
      "Epoch 26/30: 100%|██████████| 12/12 [00:07<00:00,  1.52it/s]\n",
      "Accuracy: 0.42933333333333334: 100%|██████████| 47/47 [00:11<00:00,  4.03it/s]\n"
     ]
    },
    {
     "name": "stdout",
     "output_type": "stream",
     "text": [
      "Epoch 26/30 - Accuracy: 0.42933333333333334\n"
     ]
    },
    {
     "name": "stderr",
     "output_type": "stream",
     "text": [
      "Epoch 27/30: 100%|██████████| 12/12 [00:07<00:00,  1.58it/s]\n",
      "Accuracy: 0.476: 100%|██████████| 47/47 [00:11<00:00,  3.95it/s]              \n"
     ]
    },
    {
     "name": "stdout",
     "output_type": "stream",
     "text": [
      "Epoch 27/30 - Accuracy: 0.476\n"
     ]
    },
    {
     "name": "stderr",
     "output_type": "stream",
     "text": [
      "Epoch 28/30: 100%|██████████| 12/12 [00:07<00:00,  1.63it/s]\n",
      "Accuracy: 0.4226666666666667: 100%|██████████| 47/47 [00:11<00:00,  4.00it/s] \n"
     ]
    },
    {
     "name": "stdout",
     "output_type": "stream",
     "text": [
      "Epoch 28/30 - Accuracy: 0.4226666666666667\n"
     ]
    },
    {
     "name": "stderr",
     "output_type": "stream",
     "text": [
      "Epoch 29/30: 100%|██████████| 12/12 [00:07<00:00,  1.63it/s]\n",
      "Accuracy: 0.463: 100%|██████████| 47/47 [00:11<00:00,  4.06it/s]              \n"
     ]
    },
    {
     "name": "stdout",
     "output_type": "stream",
     "text": [
      "Epoch 29/30 - Accuracy: 0.463\n"
     ]
    },
    {
     "name": "stderr",
     "output_type": "stream",
     "text": [
      "Epoch 30/30: 100%|██████████| 12/12 [00:07<00:00,  1.62it/s]\n",
      "Accuracy: 0.47933333333333333: 100%|██████████| 47/47 [00:11<00:00,  3.94it/s]"
     ]
    },
    {
     "name": "stdout",
     "output_type": "stream",
     "text": [
      "Epoch 30/30 - Accuracy: 0.47933333333333333\n"
     ]
    },
    {
     "name": "stderr",
     "output_type": "stream",
     "text": [
      "\n"
     ]
    },
    {
     "data": {
      "image/png": "[encoded data removed]",
      "text/plain": [
       "<Figure size 640x480 with 1 Axes>"
      ]
     },
     "metadata": {},
     "output_type": "display_data"
    }
   ],
   "source": [
    "model = BERTClassifier(6).to(device)\n",
    "accs_1 = train(model, sample_1_loader, epochs=30)\n",
    "plot(accs_1, 'BERT 1%')"
   ]
  },
  {
   "cell_type": "markdown",
   "metadata": {},
   "source": [
    "### 5%"
   ]
  },
  {
   "cell_type": "code",
   "execution_count": 7,
   "metadata": {},
   "outputs": [
    {
     "name": "stderr",
     "output_type": "stream",
     "text": [
      "Epoch 1/6: 100%|██████████| 56/56 [00:29<00:00,  1.88it/s]\n",
      "Accuracy: 0.284: 100%|██████████| 47/47 [00:10<00:00,  4.42it/s]              \n"
     ]
    },
    {
     "name": "stdout",
     "output_type": "stream",
     "text": [
      "Epoch 1/6 - Accuracy: 0.284\n"
     ]
    },
    {
     "name": "stderr",
     "output_type": "stream",
     "text": [
      "Epoch 2/6: 100%|██████████| 56/56 [00:35<00:00,  1.58it/s]\n",
      "Accuracy: 0.43033333333333335: 100%|██████████| 47/47 [00:10<00:00,  4.34it/s]\n"
     ]
    },
    {
     "name": "stdout",
     "output_type": "stream",
     "text": [
      "Epoch 2/6 - Accuracy: 0.43033333333333335\n"
     ]
    },
    {
     "name": "stderr",
     "output_type": "stream",
     "text": [
      "Epoch 3/6: 100%|██████████| 56/56 [00:36<00:00,  1.52it/s]\n",
      "Accuracy: 0.43866666666666665: 100%|██████████| 47/47 [00:10<00:00,  4.36it/s]\n"
     ]
    },
    {
     "name": "stdout",
     "output_type": "stream",
     "text": [
      "Epoch 3/6 - Accuracy: 0.43866666666666665\n"
     ]
    },
    {
     "name": "stderr",
     "output_type": "stream",
     "text": [
      "Epoch 4/6: 100%|██████████| 56/56 [00:36<00:00,  1.54it/s]\n",
      "Accuracy: 0.49666666666666665: 100%|██████████| 47/47 [00:10<00:00,  4.36it/s]\n"
     ]
    },
    {
     "name": "stdout",
     "output_type": "stream",
     "text": [
      "Epoch 4/6 - Accuracy: 0.49666666666666665\n"
     ]
    },
    {
     "name": "stderr",
     "output_type": "stream",
     "text": [
      "Epoch 5/6: 100%|██████████| 56/56 [00:36<00:00,  1.54it/s]\n",
      "Accuracy: 0.443: 100%|██████████| 47/47 [00:10<00:00,  4.37it/s]              \n"
     ]
    },
    {
     "name": "stdout",
     "output_type": "stream",
     "text": [
      "Epoch 5/6 - Accuracy: 0.443\n"
     ]
    },
    {
     "name": "stderr",
     "output_type": "stream",
     "text": [
      "Epoch 6/6: 100%|██████████| 56/56 [00:36<00:00,  1.54it/s]\n",
      "Accuracy: 0.5016666666666667: 100%|██████████| 47/47 [00:10<00:00,  4.35it/s] "
     ]
    },
    {
     "name": "stdout",
     "output_type": "stream",
     "text": [
      "Epoch 6/6 - Accuracy: 0.5016666666666667\n"
     ]
    },
    {
     "name": "stderr",
     "output_type": "stream",
     "text": [
      "\n"
     ]
    },
    {
     "data": {
      "image/png": "[encoded data removed]",
      "text/plain": [
       "<Figure size 640x480 with 1 Axes>"
      ]
     },
     "metadata": {},
     "output_type": "display_data"
    }
   ],
   "source": [
    "model = BERTClassifier(6).to(device)\n",
    "accs_2 = train(model, sample_2_loader, epochs=6)\n",
    "plot(accs_2, 'BERT 5%')"
   ]
  },
  {
   "cell_type": "markdown",
   "metadata": {},
   "source": [
    "### 10%"
   ]
  },
  {
   "cell_type": "code",
   "execution_count": 8,
   "metadata": {},
   "outputs": [
    {
     "name": "stderr",
     "output_type": "stream",
     "text": [
      "Epoch 1/3: 100%|██████████| 111/111 [01:04<00:00,  1.72it/s]\n",
      "Accuracy: 0.416: 100%|██████████| 47/47 [00:10<00:00,  4.41it/s]              \n"
     ]
    },
    {
     "name": "stdout",
     "output_type": "stream",
     "text": [
      "Epoch 1/3 - Accuracy: 0.416\n"
     ]
    },
    {
     "name": "stderr",
     "output_type": "stream",
     "text": [
      "Epoch 2/3: 100%|██████████| 111/111 [01:12<00:00,  1.53it/s]\n",
      "Accuracy: 0.43266666666666664: 100%|██████████| 47/47 [00:11<00:00,  4.03it/s]\n"
     ]
    },
    {
     "name": "stdout",
     "output_type": "stream",
     "text": [
      "Epoch 2/3 - Accuracy: 0.43266666666666664\n"
     ]
    },
    {
     "name": "stderr",
     "output_type": "stream",
     "text": [
      "Epoch 3/3: 100%|██████████| 111/111 [01:12<00:00,  1.53it/s]\n",
      "Accuracy: 0.4806666666666667: 100%|██████████| 47/47 [00:11<00:00,  4.23it/s] "
     ]
    },
    {
     "name": "stdout",
     "output_type": "stream",
     "text": [
      "Epoch 3/3 - Accuracy: 0.4806666666666667\n"
     ]
    },
    {
     "name": "stderr",
     "output_type": "stream",
     "text": [
      "\n"
     ]
    },
    {
     "data": {
      "image/png": "[encoded data removed]",
      "text/plain": [
       "<Figure size 640x480 with 1 Axes>"
      ]
     },
     "metadata": {},
     "output_type": "display_data"
    }
   ],
   "source": [
    "model = BERTClassifier(6).to(device)\n",
    "accs_3 = train(model, sample_3_loader, epochs=3)\n",
    "plot(accs_3, 'BERT 10%')"
   ]
  },
  {
   "cell_type": "markdown",
   "metadata": {},
   "source": [
    "### 50%"
   ]
  },
  {
   "cell_type": "code",
   "execution_count": 9,
   "metadata": {},
   "outputs": [
    {
     "name": "stderr",
     "output_type": "stream",
     "text": [
      "Epoch 1/3: 100%|██████████| 555/555 [06:00<00:00,  1.54it/s]\n",
      "Accuracy: 0.527: 100%|██████████| 47/47 [00:10<00:00,  4.38it/s]              \n"
     ]
    },
    {
     "name": "stdout",
     "output_type": "stream",
     "text": [
      "Epoch 1/3 - Accuracy: 0.527\n"
     ]
    },
    {
     "name": "stderr",
     "output_type": "stream",
     "text": [
      "Epoch 2/3: 100%|██████████| 555/555 [05:55<00:00,  1.56it/s]\n",
      "Accuracy: 0.5053333333333333: 100%|██████████| 47/47 [00:10<00:00,  4.29it/s] \n"
     ]
    },
    {
     "name": "stdout",
     "output_type": "stream",
     "text": [
      "Epoch 2/3 - Accuracy: 0.5053333333333333\n"
     ]
    },
    {
     "name": "stderr",
     "output_type": "stream",
     "text": [
      "Epoch 3/3: 100%|██████████| 555/555 [05:53<00:00,  1.57it/s]\n",
      "Accuracy: 0.531: 100%|██████████| 47/47 [00:10<00:00,  4.37it/s]              "
     ]
    },
    {
     "name": "stdout",
     "output_type": "stream",
     "text": [
      "Epoch 3/3 - Accuracy: 0.531\n"
     ]
    },
    {
     "name": "stderr",
     "output_type": "stream",
     "text": [
      "\n"
     ]
    },
    {
     "data": {
      "image/png": "[encoded data removed]",
      "text/plain": [
       "<Figure size 640x480 with 1 Axes>"
      ]
     },
     "metadata": {},
     "output_type": "display_data"
    }
   ],
   "source": [
    "model = BERTClassifier(6).to(device)\n",
    "accs_4 = train(model, sample_4_loader, epochs=3)\n",
    "plot(accs_4, 'BERT 50%')"
   ]
  },
  {
   "cell_type": "markdown",
   "metadata": {},
   "source": [
    "## Adapter"
   ]
  },
  {
   "cell_type": "code",
   "execution_count": 10,
   "metadata": {},
   "outputs": [],
   "source": [
    "import adapters\n",
    "from adapters import AdapterTrainer\n",
    "from transformers import AutoModelForSequenceClassification, TrainingArguments\n",
    "from torch.utils.data import Subset\n",
    "\n",
    "def get_model():\n",
    "    model = AutoModelForSequenceClassification.from_pretrained('bert-base-cased', num_labels=6).to(device)\n",
    "    adapters.init(model)\n",
    "    model.add_adapter('sem_eval', config='seq_bn')\n",
    "    model.bert.train_adapter('sem_eval')\n",
    "    return model\n",
    "\n",
    "def compute_metrics(p):\n",
    "    preds = p.predictions.argmax(-1)\n",
    "    return {\"accuracy\": (preds == p.label_ids).mean()}\n",
    "\n",
    "def train_adapter(model, select, epochs=3):\n",
    "    trainset_size = len(train_dataset) * select / 100\n",
    "    generator = torch.Generator().manual_seed(42)\n",
    "    torch.manual_seed(42)\n",
    "    indices = torch.randperm(len(train_dataset), generator=generator).tolist()\n",
    "    indices = indices[:int(trainset_size)]\n",
    "    subset = Subset(train_dataset, indices)\n",
    "    training_args = TrainingArguments(\n",
    "        output_dir='../Results',\n",
    "        num_train_epochs=epochs,\n",
    "        per_device_train_batch_size=64,\n",
    "        per_device_eval_batch_size=64,\n",
    "        full_determinism=False,\n",
    "        learning_rate=5e-5,\n",
    "        evaluation_strategy=\"epoch\",\n",
    "        seed=42,\n",
    "    )\n",
    "    trainer = AdapterTrainer(\n",
    "        model=model,\n",
    "        args=training_args,\n",
    "        train_dataset=subset,\n",
    "        eval_dataset=test_dataset,\n",
    "        compute_metrics=compute_metrics\n",
    "    )\n",
    "    trainer.train()\n",
    "    return trainer.evaluate()"
   ]
  },
  {
   "cell_type": "markdown",
   "metadata": {},
   "source": [
    "### 1%"
   ]
  },
  {
   "cell_type": "code",
   "execution_count": 11,
   "metadata": {},
   "outputs": [
    {
     "name": "stderr",
     "output_type": "stream",
     "text": [
      "Some weights of BertForSequenceClassification were not initialized from the model checkpoint at bert-base-cased and are newly initialized: ['classifier.bias', 'classifier.weight']\n",
      "You should probably TRAIN this model on a down-stream task to be able to use it for predictions and inference.\n"
     ]
    },
    {
     "data": {
      "application/vnd.jupyter.widget-view+json": {
       "model_id": "10b138709adc499a9d6bae742cca12e1",
       "version_major": 2,
       "version_minor": 0
      },
      "text/plain": [
       "  0%|          | 0/360 [00:00<?, ?it/s]"
      ]
     },
     "metadata": {},
     "output_type": "display_data"
    },
    {
     "data": {
      "application/vnd.jupyter.widget-view+json": {
       "model_id": "3d5cfbb3bd3e40e5b36086b65d69b391",
       "version_major": 2,
       "version_minor": 0
      },
      "text/plain": [
       "  0%|          | 0/47 [00:00<?, ?it/s]"
      ]
     },
     "metadata": {},
     "output_type": "display_data"
    },
    {
     "name": "stdout",
     "output_type": "stream",
     "text": [
      "{'eval_loss': 1.8142379522323608, 'eval_accuracy': 0.14166666666666666, 'eval_runtime': 10.7354, 'eval_samples_per_second': 279.449, 'eval_steps_per_second': 4.378, 'epoch': 1.0}\n"
     ]
    },
    {
     "data": {
      "application/vnd.jupyter.widget-view+json": {
       "model_id": "a4dddcacf26e4a10941b4fea8c3414db",
       "version_major": 2,
       "version_minor": 0
      },
      "text/plain": [
       "  0%|          | 0/47 [00:00<?, ?it/s]"
      ]
     },
     "metadata": {},
     "output_type": "display_data"
    },
    {
     "name": "stdout",
     "output_type": "stream",
     "text": [
      "{'eval_loss': 1.8052364587783813, 'eval_accuracy': 0.14, 'eval_runtime': 11.33, 'eval_samples_per_second': 264.784, 'eval_steps_per_second': 4.148, 'epoch': 2.0}\n"
     ]
    },
    {
     "data": {
      "application/vnd.jupyter.widget-view+json": {
       "model_id": "d29500ec06ec4bf09abf138e4181a475",
       "version_major": 2,
       "version_minor": 0
      },
      "text/plain": [
       "  0%|          | 0/47 [00:00<?, ?it/s]"
      ]
     },
     "metadata": {},
     "output_type": "display_data"
    },
    {
     "name": "stdout",
     "output_type": "stream",
     "text": [
      "{'eval_loss': 1.805070161819458, 'eval_accuracy': 0.13533333333333333, 'eval_runtime': 11.7977, 'eval_samples_per_second': 254.286, 'eval_steps_per_second': 3.984, 'epoch': 3.0}\n"
     ]
    },
    {
     "data": {
      "application/vnd.jupyter.widget-view+json": {
       "model_id": "c455bdf4414e4e84bc9978ed75f847ab",
       "version_major": 2,
       "version_minor": 0
      },
      "text/plain": [
       "  0%|          | 0/47 [00:00<?, ?it/s]"
      ]
     },
     "metadata": {},
     "output_type": "display_data"
    },
    {
     "name": "stdout",
     "output_type": "stream",
     "text": [
      "{'eval_loss': 1.8041685819625854, 'eval_accuracy': 0.138, 'eval_runtime': 11.4964, 'eval_samples_per_second': 260.951, 'eval_steps_per_second': 4.088, 'epoch': 4.0}\n"
     ]
    },
    {
     "data": {
      "application/vnd.jupyter.widget-view+json": {
       "model_id": "75f445a804ed41179b94297a45658765",
       "version_major": 2,
       "version_minor": 0
      },
      "text/plain": [
       "  0%|          | 0/47 [00:00<?, ?it/s]"
      ]
     },
     "metadata": {},
     "output_type": "display_data"
    },
    {
     "name": "stdout",
     "output_type": "stream",
     "text": [
      "{'eval_loss': 1.802148461341858, 'eval_accuracy': 0.14666666666666667, 'eval_runtime': 11.8505, 'eval_samples_per_second': 253.154, 'eval_steps_per_second': 3.966, 'epoch': 5.0}\n"
     ]
    },
    {
     "data": {
      "application/vnd.jupyter.widget-view+json": {
       "model_id": "6e609e8ffa7b41d9a58644dd55819d3e",
       "version_major": 2,
       "version_minor": 0
      },
      "text/plain": [
       "  0%|          | 0/47 [00:00<?, ?it/s]"
      ]
     },
     "metadata": {},
     "output_type": "display_data"
    },
    {
     "name": "stdout",
     "output_type": "stream",
     "text": [
      "{'eval_loss': 1.8010942935943604, 'eval_accuracy': 0.147, 'eval_runtime': 11.3069, 'eval_samples_per_second': 265.324, 'eval_steps_per_second': 4.157, 'epoch': 6.0}\n"
     ]
    },
    {
     "data": {
      "application/vnd.jupyter.widget-view+json": {
       "model_id": "5fcc734984eb48579e7ef2eb7f78b533",
       "version_major": 2,
       "version_minor": 0
      },
      "text/plain": [
       "  0%|          | 0/47 [00:00<?, ?it/s]"
      ]
     },
     "metadata": {},
     "output_type": "display_data"
    },
    {
     "name": "stdout",
     "output_type": "stream",
     "text": [
      "{'eval_loss': 1.7991313934326172, 'eval_accuracy': 0.15266666666666667, 'eval_runtime': 11.6618, 'eval_samples_per_second': 257.25, 'eval_steps_per_second': 4.03, 'epoch': 7.0}\n"
     ]
    },
    {
     "data": {
      "application/vnd.jupyter.widget-view+json": {
       "model_id": "b8b3a13699a54843b057225fabfce2b8",
       "version_major": 2,
       "version_minor": 0
      },
      "text/plain": [
       "  0%|          | 0/47 [00:00<?, ?it/s]"
      ]
     },
     "metadata": {},
     "output_type": "display_data"
    },
    {
     "name": "stdout",
     "output_type": "stream",
     "text": [
      "{'eval_loss': 1.7973606586456299, 'eval_accuracy': 0.15166666666666667, 'eval_runtime': 11.1705, 'eval_samples_per_second': 268.564, 'eval_steps_per_second': 4.208, 'epoch': 8.0}\n"
     ]
    },
    {
     "data": {
      "application/vnd.jupyter.widget-view+json": {
       "model_id": "07c1d7a3ccee4eccbeba30df8423dd4f",
       "version_major": 2,
       "version_minor": 0
      },
      "text/plain": [
       "  0%|          | 0/47 [00:00<?, ?it/s]"
      ]
     },
     "metadata": {},
     "output_type": "display_data"
    },
    {
     "name": "stdout",
     "output_type": "stream",
     "text": [
      "{'eval_loss': 1.7966736555099487, 'eval_accuracy': 0.15366666666666667, 'eval_runtime': 11.6435, 'eval_samples_per_second': 257.655, 'eval_steps_per_second': 4.037, 'epoch': 9.0}\n"
     ]
    },
    {
     "data": {
      "application/vnd.jupyter.widget-view+json": {
       "model_id": "98fdc6c44c3d4bd1ace5df750de9e2bf",
       "version_major": 2,
       "version_minor": 0
      },
      "text/plain": [
       "  0%|          | 0/47 [00:00<?, ?it/s]"
      ]
     },
     "metadata": {},
     "output_type": "display_data"
    },
    {
     "name": "stdout",
     "output_type": "stream",
     "text": [
      "{'eval_loss': 1.79584801197052, 'eval_accuracy': 0.163, 'eval_runtime': 11.6875, 'eval_samples_per_second': 256.685, 'eval_steps_per_second': 4.021, 'epoch': 10.0}\n"
     ]
    },
    {
     "data": {
      "application/vnd.jupyter.widget-view+json": {
       "model_id": "4e50206b5d604af5b60c64f8b0ee9364",
       "version_major": 2,
       "version_minor": 0
      },
      "text/plain": [
       "  0%|          | 0/47 [00:00<?, ?it/s]"
      ]
     },
     "metadata": {},
     "output_type": "display_data"
    },
    {
     "name": "stdout",
     "output_type": "stream",
     "text": [
      "{'eval_loss': 1.7945632934570312, 'eval_accuracy': 0.174, 'eval_runtime': 11.551, 'eval_samples_per_second': 259.718, 'eval_steps_per_second': 4.069, 'epoch': 11.0}\n"
     ]
    },
    {
     "data": {
      "application/vnd.jupyter.widget-view+json": {
       "model_id": "64957f52d51d4083964af683d2f330fc",
       "version_major": 2,
       "version_minor": 0
      },
      "text/plain": [
       "  0%|          | 0/47 [00:00<?, ?it/s]"
      ]
     },
     "metadata": {},
     "output_type": "display_data"
    },
    {
     "name": "stdout",
     "output_type": "stream",
     "text": [
      "{'eval_loss': 1.791841745376587, 'eval_accuracy': 0.17566666666666667, 'eval_runtime': 11.955, 'eval_samples_per_second': 250.941, 'eval_steps_per_second': 3.931, 'epoch': 12.0}\n"
     ]
    },
    {
     "data": {
      "application/vnd.jupyter.widget-view+json": {
       "model_id": "e1c8eab549954785bcda9ab5078c40e0",
       "version_major": 2,
       "version_minor": 0
      },
      "text/plain": [
       "  0%|          | 0/47 [00:00<?, ?it/s]"
      ]
     },
     "metadata": {},
     "output_type": "display_data"
    },
    {
     "name": "stdout",
     "output_type": "stream",
     "text": [
      "{'eval_loss': 1.7912366390228271, 'eval_accuracy': 0.183, 'eval_runtime': 11.8192, 'eval_samples_per_second': 253.825, 'eval_steps_per_second': 3.977, 'epoch': 13.0}\n"
     ]
    },
    {
     "data": {
      "application/vnd.jupyter.widget-view+json": {
       "model_id": "36d2109b6a224f06995bb66357008869",
       "version_major": 2,
       "version_minor": 0
      },
      "text/plain": [
       "  0%|          | 0/47 [00:00<?, ?it/s]"
      ]
     },
     "metadata": {},
     "output_type": "display_data"
    },
    {
     "name": "stdout",
     "output_type": "stream",
     "text": [
      "{'eval_loss': 1.7871774435043335, 'eval_accuracy': 0.18866666666666668, 'eval_runtime': 11.3161, 'eval_samples_per_second': 265.11, 'eval_steps_per_second': 4.153, 'epoch': 14.0}\n"
     ]
    },
    {
     "data": {
      "application/vnd.jupyter.widget-view+json": {
       "model_id": "cf959a4de3d84c59b411e0c07944b419",
       "version_major": 2,
       "version_minor": 0
      },
      "text/plain": [
       "  0%|          | 0/47 [00:00<?, ?it/s]"
      ]
     },
     "metadata": {},
     "output_type": "display_data"
    },
    {
     "name": "stdout",
     "output_type": "stream",
     "text": [
      "{'eval_loss': 1.7851927280426025, 'eval_accuracy': 0.193, 'eval_runtime': 11.3261, 'eval_samples_per_second': 264.875, 'eval_steps_per_second': 4.15, 'epoch': 15.0}\n"
     ]
    },
    {
     "data": {
      "application/vnd.jupyter.widget-view+json": {
       "model_id": "689dc0ed14ab44d1ac652330974ba6d4",
       "version_major": 2,
       "version_minor": 0
      },
      "text/plain": [
       "  0%|          | 0/47 [00:00<?, ?it/s]"
      ]
     },
     "metadata": {},
     "output_type": "display_data"
    },
    {
     "name": "stdout",
     "output_type": "stream",
     "text": [
      "{'eval_loss': 1.7841767072677612, 'eval_accuracy': 0.20033333333333334, 'eval_runtime': 11.399, 'eval_samples_per_second': 263.181, 'eval_steps_per_second': 4.123, 'epoch': 16.0}\n"
     ]
    },
    {
     "data": {
      "application/vnd.jupyter.widget-view+json": {
       "model_id": "1502bf66ac4d44cbb86bff73fbba1657",
       "version_major": 2,
       "version_minor": 0
      },
      "text/plain": [
       "  0%|          | 0/47 [00:00<?, ?it/s]"
      ]
     },
     "metadata": {},
     "output_type": "display_data"
    },
    {
     "name": "stdout",
     "output_type": "stream",
     "text": [
      "{'eval_loss': 1.7851237058639526, 'eval_accuracy': 0.19566666666666666, 'eval_runtime': 11.3646, 'eval_samples_per_second': 263.977, 'eval_steps_per_second': 4.136, 'epoch': 17.0}\n"
     ]
    },
    {
     "data": {
      "application/vnd.jupyter.widget-view+json": {
       "model_id": "741b3a1c85e345d084ba16cacdfc035b",
       "version_major": 2,
       "version_minor": 0
      },
      "text/plain": [
       "  0%|          | 0/47 [00:00<?, ?it/s]"
      ]
     },
     "metadata": {},
     "output_type": "display_data"
    },
    {
     "name": "stdout",
     "output_type": "stream",
     "text": [
      "{'eval_loss': 1.7783225774765015, 'eval_accuracy': 0.20266666666666666, 'eval_runtime': 11.343, 'eval_samples_per_second': 264.48, 'eval_steps_per_second': 4.144, 'epoch': 18.0}\n"
     ]
    },
    {
     "data": {
      "application/vnd.jupyter.widget-view+json": {
       "model_id": "d3054ec639b8473981b3ef6c0cc9e6aa",
       "version_major": 2,
       "version_minor": 0
      },
      "text/plain": [
       "  0%|          | 0/47 [00:00<?, ?it/s]"
      ]
     },
     "metadata": {},
     "output_type": "display_data"
    },
    {
     "name": "stdout",
     "output_type": "stream",
     "text": [
      "{'eval_loss': 1.777652382850647, 'eval_accuracy': 0.204, 'eval_runtime': 11.4033, 'eval_samples_per_second': 263.081, 'eval_steps_per_second': 4.122, 'epoch': 19.0}\n"
     ]
    },
    {
     "data": {
      "application/vnd.jupyter.widget-view+json": {
       "model_id": "a49f85c914194fb8aca85dd6bb17d46d",
       "version_major": 2,
       "version_minor": 0
      },
      "text/plain": [
       "  0%|          | 0/47 [00:00<?, ?it/s]"
      ]
     },
     "metadata": {},
     "output_type": "display_data"
    },
    {
     "name": "stdout",
     "output_type": "stream",
     "text": [
      "{'eval_loss': 1.7759315967559814, 'eval_accuracy': 0.20433333333333334, 'eval_runtime': 11.7097, 'eval_samples_per_second': 256.197, 'eval_steps_per_second': 4.014, 'epoch': 20.0}\n"
     ]
    },
    {
     "data": {
      "application/vnd.jupyter.widget-view+json": {
       "model_id": "3005cf4dddd14375b07f5995abc010f1",
       "version_major": 2,
       "version_minor": 0
      },
      "text/plain": [
       "  0%|          | 0/47 [00:00<?, ?it/s]"
      ]
     },
     "metadata": {},
     "output_type": "display_data"
    },
    {
     "name": "stdout",
     "output_type": "stream",
     "text": [
      "{'eval_loss': 1.7754504680633545, 'eval_accuracy': 0.20666666666666667, 'eval_runtime': 11.7482, 'eval_samples_per_second': 255.358, 'eval_steps_per_second': 4.001, 'epoch': 21.0}\n"
     ]
    },
    {
     "data": {
      "application/vnd.jupyter.widget-view+json": {
       "model_id": "03a5e48bc2de4e40abfad29defbe75f5",
       "version_major": 2,
       "version_minor": 0
      },
      "text/plain": [
       "  0%|          | 0/47 [00:00<?, ?it/s]"
      ]
     },
     "metadata": {},
     "output_type": "display_data"
    },
    {
     "name": "stdout",
     "output_type": "stream",
     "text": [
      "{'eval_loss': 1.775229811668396, 'eval_accuracy': 0.207, 'eval_runtime': 11.5574, 'eval_samples_per_second': 259.575, 'eval_steps_per_second': 4.067, 'epoch': 22.0}\n"
     ]
    },
    {
     "data": {
      "application/vnd.jupyter.widget-view+json": {
       "model_id": "b22796e97d2b444d881f893ecee3a926",
       "version_major": 2,
       "version_minor": 0
      },
      "text/plain": [
       "  0%|          | 0/47 [00:00<?, ?it/s]"
      ]
     },
     "metadata": {},
     "output_type": "display_data"
    },
    {
     "name": "stdout",
     "output_type": "stream",
     "text": [
      "{'eval_loss': 1.7763320207595825, 'eval_accuracy': 0.20666666666666667, 'eval_runtime': 12.0855, 'eval_samples_per_second': 248.232, 'eval_steps_per_second': 3.889, 'epoch': 23.0}\n"
     ]
    },
    {
     "data": {
      "application/vnd.jupyter.widget-view+json": {
       "model_id": "7296d2e5fb8e4c6a848f346099f030da",
       "version_major": 2,
       "version_minor": 0
      },
      "text/plain": [
       "  0%|          | 0/47 [00:00<?, ?it/s]"
      ]
     },
     "metadata": {},
     "output_type": "display_data"
    },
    {
     "name": "stdout",
     "output_type": "stream",
     "text": [
      "{'eval_loss': 1.7753205299377441, 'eval_accuracy': 0.207, 'eval_runtime': 11.3267, 'eval_samples_per_second': 264.86, 'eval_steps_per_second': 4.149, 'epoch': 24.0}\n"
     ]
    },
    {
     "data": {
      "application/vnd.jupyter.widget-view+json": {
       "model_id": "6137073df17b461898737a18aeb1f3ee",
       "version_major": 2,
       "version_minor": 0
      },
      "text/plain": [
       "  0%|          | 0/47 [00:00<?, ?it/s]"
      ]
     },
     "metadata": {},
     "output_type": "display_data"
    },
    {
     "name": "stdout",
     "output_type": "stream",
     "text": [
      "{'eval_loss': 1.776540994644165, 'eval_accuracy': 0.20733333333333334, 'eval_runtime': 11.8549, 'eval_samples_per_second': 253.06, 'eval_steps_per_second': 3.965, 'epoch': 25.0}\n"
     ]
    },
    {
     "data": {
      "application/vnd.jupyter.widget-view+json": {
       "model_id": "5c70725875c84ef7b6e29290e5ad997f",
       "version_major": 2,
       "version_minor": 0
      },
      "text/plain": [
       "  0%|          | 0/47 [00:00<?, ?it/s]"
      ]
     },
     "metadata": {},
     "output_type": "display_data"
    },
    {
     "name": "stdout",
     "output_type": "stream",
     "text": [
      "{'eval_loss': 1.773056983947754, 'eval_accuracy': 0.20833333333333334, 'eval_runtime': 11.5245, 'eval_samples_per_second': 260.315, 'eval_steps_per_second': 4.078, 'epoch': 26.0}\n"
     ]
    },
    {
     "data": {
      "application/vnd.jupyter.widget-view+json": {
       "model_id": "a0417759379c462f9e577cdbb21affc1",
       "version_major": 2,
       "version_minor": 0
      },
      "text/plain": [
       "  0%|          | 0/47 [00:00<?, ?it/s]"
      ]
     },
     "metadata": {},
     "output_type": "display_data"
    },
    {
     "name": "stdout",
     "output_type": "stream",
     "text": [
      "{'eval_loss': 1.7701709270477295, 'eval_accuracy': 0.21266666666666667, 'eval_runtime': 12.4152, 'eval_samples_per_second': 241.64, 'eval_steps_per_second': 3.786, 'epoch': 27.0}\n"
     ]
    },
    {
     "data": {
      "application/vnd.jupyter.widget-view+json": {
       "model_id": "cbecd46cb88e4d55902264a716df07db",
       "version_major": 2,
       "version_minor": 0
      },
      "text/plain": [
       "  0%|          | 0/47 [00:00<?, ?it/s]"
      ]
     },
     "metadata": {},
     "output_type": "display_data"
    },
    {
     "name": "stdout",
     "output_type": "stream",
     "text": [
      "{'eval_loss': 1.7699869871139526, 'eval_accuracy': 0.212, 'eval_runtime': 11.3615, 'eval_samples_per_second': 264.049, 'eval_steps_per_second': 4.137, 'epoch': 28.0}\n"
     ]
    },
    {
     "data": {
      "application/vnd.jupyter.widget-view+json": {
       "model_id": "f16310d3c6db4fc7aec473855a16e718",
       "version_major": 2,
       "version_minor": 0
      },
      "text/plain": [
       "  0%|          | 0/47 [00:00<?, ?it/s]"
      ]
     },
     "metadata": {},
     "output_type": "display_data"
    },
    {
     "name": "stdout",
     "output_type": "stream",
     "text": [
      "{'eval_loss': 1.7695013284683228, 'eval_accuracy': 0.21266666666666667, 'eval_runtime': 11.3411, 'eval_samples_per_second': 264.524, 'eval_steps_per_second': 4.144, 'epoch': 29.0}\n"
     ]
    },
    {
     "data": {
      "application/vnd.jupyter.widget-view+json": {
       "model_id": "d00b49e9645a49d4ae775ee71301c6fa",
       "version_major": 2,
       "version_minor": 0
      },
      "text/plain": [
       "  0%|          | 0/47 [00:00<?, ?it/s]"
      ]
     },
     "metadata": {},
     "output_type": "display_data"
    },
    {
     "name": "stdout",
     "output_type": "stream",
     "text": [
      "{'eval_loss': 1.7690393924713135, 'eval_accuracy': 0.213, 'eval_runtime': 11.3732, 'eval_samples_per_second': 263.779, 'eval_steps_per_second': 4.133, 'epoch': 30.0}\n",
      "{'train_runtime': 501.5703, 'train_samples_per_second': 42.467, 'train_steps_per_second': 0.718, 'train_loss': 1.7384819878472222, 'epoch': 30.0}\n"
     ]
    },
    {
     "data": {
      "application/vnd.jupyter.widget-view+json": {
       "model_id": "2b6d0df68ae94f4da051920a720a352f",
       "version_major": 2,
       "version_minor": 0
      },
      "text/plain": [
       "  0%|          | 0/47 [00:00<?, ?it/s]"
      ]
     },
     "metadata": {},
     "output_type": "display_data"
    },
    {
     "data": {
      "text/plain": [
       "{'eval_loss': 1.7690393924713135,\n",
       " 'eval_accuracy': 0.213,\n",
       " 'eval_runtime': 11.3728,\n",
       " 'eval_samples_per_second': 263.787,\n",
       " 'eval_steps_per_second': 4.133,\n",
       " 'epoch': 30.0}"
      ]
     },
     "execution_count": 11,
     "metadata": {},
     "output_type": "execute_result"
    }
   ],
   "source": [
    "model = get_model()\n",
    "accs_1 = train_adapter(model, 1, epochs=30)\n",
    "accs_1"
   ]
  },
  {
   "cell_type": "markdown",
   "metadata": {},
   "source": [
    "### 5%"
   ]
  },
  {
   "cell_type": "code",
   "execution_count": 12,
   "metadata": {},
   "outputs": [
    {
     "name": "stderr",
     "output_type": "stream",
     "text": [
      "Some weights of BertForSequenceClassification were not initialized from the model checkpoint at bert-base-cased and are newly initialized: ['classifier.bias', 'classifier.weight']\n",
      "You should probably TRAIN this model on a down-stream task to be able to use it for predictions and inference.\n"
     ]
    },
    {
     "data": {
      "application/vnd.jupyter.widget-view+json": {
       "model_id": "ab854ac056d0450589d4e4859d877997",
       "version_major": 2,
       "version_minor": 0
      },
      "text/plain": [
       "  0%|          | 0/336 [00:00<?, ?it/s]"
      ]
     },
     "metadata": {},
     "output_type": "display_data"
    },
    {
     "data": {
      "application/vnd.jupyter.widget-view+json": {
       "model_id": "d0037118535149c28724a28a25148954",
       "version_major": 2,
       "version_minor": 0
      },
      "text/plain": [
       "  0%|          | 0/47 [00:00<?, ?it/s]"
      ]
     },
     "metadata": {},
     "output_type": "display_data"
    },
    {
     "name": "stdout",
     "output_type": "stream",
     "text": [
      "{'eval_loss': 1.7949632406234741, 'eval_accuracy': 0.17066666666666666, 'eval_runtime': 9.9726, 'eval_samples_per_second': 300.824, 'eval_steps_per_second': 4.713, 'epoch': 1.0}\n"
     ]
    },
    {
     "data": {
      "application/vnd.jupyter.widget-view+json": {
       "model_id": "9027a574d0fe4051b182036831eabfd6",
       "version_major": 2,
       "version_minor": 0
      },
      "text/plain": [
       "  0%|          | 0/47 [00:00<?, ?it/s]"
      ]
     },
     "metadata": {},
     "output_type": "display_data"
    },
    {
     "name": "stdout",
     "output_type": "stream",
     "text": [
      "{'eval_loss': 1.7914077043533325, 'eval_accuracy': 0.17533333333333334, 'eval_runtime': 11.5154, 'eval_samples_per_second': 260.521, 'eval_steps_per_second': 4.081, 'epoch': 2.0}\n"
     ]
    },
    {
     "data": {
      "application/vnd.jupyter.widget-view+json": {
       "model_id": "13ada464767d43b8bfabc43d159661ff",
       "version_major": 2,
       "version_minor": 0
      },
      "text/plain": [
       "  0%|          | 0/47 [00:00<?, ?it/s]"
      ]
     },
     "metadata": {},
     "output_type": "display_data"
    },
    {
     "name": "stdout",
     "output_type": "stream",
     "text": [
      "{'eval_loss': 1.7833127975463867, 'eval_accuracy': 0.19266666666666668, 'eval_runtime': 11.6798, 'eval_samples_per_second': 256.853, 'eval_steps_per_second': 4.024, 'epoch': 3.0}\n"
     ]
    },
    {
     "data": {
      "application/vnd.jupyter.widget-view+json": {
       "model_id": "c57fce4c8f424473b6b2651caef9b7aa",
       "version_major": 2,
       "version_minor": 0
      },
      "text/plain": [
       "  0%|          | 0/47 [00:00<?, ?it/s]"
      ]
     },
     "metadata": {},
     "output_type": "display_data"
    },
    {
     "name": "stdout",
     "output_type": "stream",
     "text": [
      "{'eval_loss': 1.7716487646102905, 'eval_accuracy': 0.22533333333333333, 'eval_runtime': 12.0765, 'eval_samples_per_second': 248.417, 'eval_steps_per_second': 3.892, 'epoch': 4.0}\n"
     ]
    },
    {
     "data": {
      "application/vnd.jupyter.widget-view+json": {
       "model_id": "f7c001e1a80f46c1ae96d270b9d5347f",
       "version_major": 2,
       "version_minor": 0
      },
      "text/plain": [
       "  0%|          | 0/47 [00:00<?, ?it/s]"
      ]
     },
     "metadata": {},
     "output_type": "display_data"
    },
    {
     "name": "stdout",
     "output_type": "stream",
     "text": [
      "{'eval_loss': 1.7570055723190308, 'eval_accuracy': 0.232, 'eval_runtime': 11.2354, 'eval_samples_per_second': 267.014, 'eval_steps_per_second': 4.183, 'epoch': 5.0}\n"
     ]
    },
    {
     "data": {
      "application/vnd.jupyter.widget-view+json": {
       "model_id": "05a7c326aae840f490b4328e23378751",
       "version_major": 2,
       "version_minor": 0
      },
      "text/plain": [
       "  0%|          | 0/47 [00:00<?, ?it/s]"
      ]
     },
     "metadata": {},
     "output_type": "display_data"
    },
    {
     "name": "stdout",
     "output_type": "stream",
     "text": [
      "{'eval_loss': 1.751961588859558, 'eval_accuracy': 0.232, 'eval_runtime': 11.7342, 'eval_samples_per_second': 255.662, 'eval_steps_per_second': 4.005, 'epoch': 6.0}\n",
      "{'train_runtime': 217.6226, 'train_samples_per_second': 97.903, 'train_steps_per_second': 1.544, 'train_loss': 1.778338841029576, 'epoch': 6.0}\n"
     ]
    },
    {
     "data": {
      "application/vnd.jupyter.widget-view+json": {
       "model_id": "5a274239f68a413189c262e1b3e28c7d",
       "version_major": 2,
       "version_minor": 0
      },
      "text/plain": [
       "  0%|          | 0/47 [00:00<?, ?it/s]"
      ]
     },
     "metadata": {},
     "output_type": "display_data"
    },
    {
     "data": {
      "text/plain": [
       "{'eval_loss': 1.751961588859558,\n",
       " 'eval_accuracy': 0.232,\n",
       " 'eval_runtime': 11.7083,\n",
       " 'eval_samples_per_second': 256.229,\n",
       " 'eval_steps_per_second': 4.014,\n",
       " 'epoch': 6.0}"
      ]
     },
     "execution_count": 12,
     "metadata": {},
     "output_type": "execute_result"
    }
   ],
   "source": [
    "model = get_model()\n",
    "accs_2 = train_adapter(model, 5, epochs=6)\n",
    "accs_2"
   ]
  },
  {
   "cell_type": "markdown",
   "metadata": {},
   "source": [
    "### 10%"
   ]
  },
  {
   "cell_type": "code",
   "execution_count": 13,
   "metadata": {},
   "outputs": [
    {
     "name": "stderr",
     "output_type": "stream",
     "text": [
      "Some weights of BertForSequenceClassification were not initialized from the model checkpoint at bert-base-cased and are newly initialized: ['classifier.bias', 'classifier.weight']\n",
      "You should probably TRAIN this model on a down-stream task to be able to use it for predictions and inference.\n"
     ]
    },
    {
     "data": {
      "application/vnd.jupyter.widget-view+json": {
       "model_id": "ab7709f514e1454da90b28a6bc8e66b3",
       "version_major": 2,
       "version_minor": 0
      },
      "text/plain": [
       "  0%|          | 0/333 [00:00<?, ?it/s]"
      ]
     },
     "metadata": {},
     "output_type": "display_data"
    },
    {
     "data": {
      "application/vnd.jupyter.widget-view+json": {
       "model_id": "b24dcbe3047f4aca8f5bfc0c8ceb0c58",
       "version_major": 2,
       "version_minor": 0
      },
      "text/plain": [
       "  0%|          | 0/47 [00:00<?, ?it/s]"
      ]
     },
     "metadata": {},
     "output_type": "display_data"
    },
    {
     "name": "stdout",
     "output_type": "stream",
     "text": [
      "{'eval_loss': 1.7906644344329834, 'eval_accuracy': 0.18966666666666668, 'eval_runtime': 11.0012, 'eval_samples_per_second': 272.698, 'eval_steps_per_second': 4.272, 'epoch': 1.0}\n"
     ]
    },
    {
     "data": {
      "application/vnd.jupyter.widget-view+json": {
       "model_id": "8e3c3fda6c104d809501110b8acae16d",
       "version_major": 2,
       "version_minor": 0
      },
      "text/plain": [
       "  0%|          | 0/47 [00:00<?, ?it/s]"
      ]
     },
     "metadata": {},
     "output_type": "display_data"
    },
    {
     "name": "stdout",
     "output_type": "stream",
     "text": [
      "{'eval_loss': 1.7826337814331055, 'eval_accuracy': 0.201, 'eval_runtime': 11.5478, 'eval_samples_per_second': 259.79, 'eval_steps_per_second': 4.07, 'epoch': 2.0}\n"
     ]
    },
    {
     "data": {
      "application/vnd.jupyter.widget-view+json": {
       "model_id": "7c85a88d8d5a40749118331835d5782c",
       "version_major": 2,
       "version_minor": 0
      },
      "text/plain": [
       "  0%|          | 0/47 [00:00<?, ?it/s]"
      ]
     },
     "metadata": {},
     "output_type": "display_data"
    },
    {
     "name": "stdout",
     "output_type": "stream",
     "text": [
      "{'eval_loss': 1.777984380722046, 'eval_accuracy': 0.20566666666666666, 'eval_runtime': 12.0371, 'eval_samples_per_second': 249.23, 'eval_steps_per_second': 3.905, 'epoch': 3.0}\n",
      "{'train_runtime': 184.4011, 'train_samples_per_second': 115.542, 'train_steps_per_second': 1.806, 'train_loss': 1.79162744287256, 'epoch': 3.0}\n"
     ]
    },
    {
     "data": {
      "application/vnd.jupyter.widget-view+json": {
       "model_id": "934b9996b7034544b9a6bd1c13d7e5cd",
       "version_major": 2,
       "version_minor": 0
      },
      "text/plain": [
       "  0%|          | 0/47 [00:00<?, ?it/s]"
      ]
     },
     "metadata": {},
     "output_type": "display_data"
    },
    {
     "data": {
      "text/plain": [
       "{'eval_loss': 1.777984380722046,\n",
       " 'eval_accuracy': 0.20566666666666666,\n",
       " 'eval_runtime': 11.4171,\n",
       " 'eval_samples_per_second': 262.763,\n",
       " 'eval_steps_per_second': 4.117,\n",
       " 'epoch': 3.0}"
      ]
     },
     "execution_count": 13,
     "metadata": {},
     "output_type": "execute_result"
    }
   ],
   "source": [
    "model = get_model()\n",
    "accs_3 = train_adapter(model, 10, epochs=3)\n",
    "accs_3"
   ]
  },
  {
   "cell_type": "markdown",
   "metadata": {},
   "source": [
    "### 50%"
   ]
  },
  {
   "cell_type": "code",
   "execution_count": 14,
   "metadata": {},
   "outputs": [
    {
     "name": "stderr",
     "output_type": "stream",
     "text": [
      "Some weights of BertForSequenceClassification were not initialized from the model checkpoint at bert-base-cased and are newly initialized: ['classifier.bias', 'classifier.weight']\n",
      "You should probably TRAIN this model on a down-stream task to be able to use it for predictions and inference.\n"
     ]
    },
    {
     "data": {
      "application/vnd.jupyter.widget-view+json": {
       "model_id": "7b372839858d429aa7db9878491632af",
       "version_major": 2,
       "version_minor": 0
      },
      "text/plain": [
       "  0%|          | 0/1665 [00:00<?, ?it/s]"
      ]
     },
     "metadata": {},
     "output_type": "display_data"
    },
    {
     "name": "stdout",
     "output_type": "stream",
     "text": [
      "{'loss': 1.6666, 'learning_rate': 3.498498498498499e-05, 'epoch': 0.9}\n"
     ]
    },
    {
     "data": {
      "application/vnd.jupyter.widget-view+json": {
       "model_id": "85009fd9f08e4c5498f022621c6f4c11",
       "version_major": 2,
       "version_minor": 0
      },
      "text/plain": [
       "  0%|          | 0/47 [00:00<?, ?it/s]"
      ]
     },
     "metadata": {},
     "output_type": "display_data"
    },
    {
     "name": "stdout",
     "output_type": "stream",
     "text": [
      "{'eval_loss': 1.6902189254760742, 'eval_accuracy': 0.25333333333333335, 'eval_runtime': 11.5975, 'eval_samples_per_second': 258.676, 'eval_steps_per_second': 4.053, 'epoch': 1.0}\n",
      "{'loss': 1.3192, 'learning_rate': 1.996996996996997e-05, 'epoch': 1.8}\n"
     ]
    },
    {
     "data": {
      "application/vnd.jupyter.widget-view+json": {
       "model_id": "ea6a6a0ee3c1487098233a5822d76b4d",
       "version_major": 2,
       "version_minor": 0
      },
      "text/plain": [
       "  0%|          | 0/47 [00:00<?, ?it/s]"
      ]
     },
     "metadata": {},
     "output_type": "display_data"
    },
    {
     "name": "stdout",
     "output_type": "stream",
     "text": [
      "{'eval_loss': 1.538845419883728, 'eval_accuracy': 0.33866666666666667, 'eval_runtime': 11.858, 'eval_samples_per_second': 252.993, 'eval_steps_per_second': 3.964, 'epoch': 2.0}\n",
      "{'loss': 1.203, 'learning_rate': 4.954954954954955e-06, 'epoch': 2.7}\n"
     ]
    },
    {
     "data": {
      "application/vnd.jupyter.widget-view+json": {
       "model_id": "d9aef255169143c397069ae59944436a",
       "version_major": 2,
       "version_minor": 0
      },
      "text/plain": [
       "  0%|          | 0/47 [00:00<?, ?it/s]"
      ]
     },
     "metadata": {},
     "output_type": "display_data"
    },
    {
     "name": "stdout",
     "output_type": "stream",
     "text": [
      "{'eval_loss': 1.524609088897705, 'eval_accuracy': 0.358, 'eval_runtime': 11.4795, 'eval_samples_per_second': 261.336, 'eval_steps_per_second': 4.094, 'epoch': 3.0}\n",
      "{'train_runtime': 805.4831, 'train_samples_per_second': 132.267, 'train_steps_per_second': 2.067, 'train_loss': 1.3744464771167653, 'epoch': 3.0}\n"
     ]
    },
    {
     "data": {
      "application/vnd.jupyter.widget-view+json": {
       "model_id": "ac9b112dbb10479387fcf6c1f0015ca2",
       "version_major": 2,
       "version_minor": 0
      },
      "text/plain": [
       "  0%|          | 0/47 [00:00<?, ?it/s]"
      ]
     },
     "metadata": {},
     "output_type": "display_data"
    },
    {
     "data": {
      "text/plain": [
       "{'eval_loss': 1.524609088897705,\n",
       " 'eval_accuracy': 0.358,\n",
       " 'eval_runtime': 11.9059,\n",
       " 'eval_samples_per_second': 251.977,\n",
       " 'eval_steps_per_second': 3.948,\n",
       " 'epoch': 3.0}"
      ]
     },
     "execution_count": 14,
     "metadata": {},
     "output_type": "execute_result"
    }
   ],
   "source": [
    "model = get_model()\n",
    "accs_4 = train_adapter(model, 50, epochs=3)\n",
    "accs_4"
   ]
  },
  {
   "cell_type": "markdown",
   "metadata": {},
   "source": [
    "# GAN-BERT"
   ]
  },
  {
   "cell_type": "code",
   "execution_count": 6,
   "metadata": {},
   "outputs": [],
   "source": [
    "class Discriminator(nn.Module):\n",
    "    def __init__(self, num_classes):\n",
    "        super(Discriminator, self).__init__()\n",
    "        self.dropout1 = nn.Dropout(0.2)\n",
    "        self.fc1 = nn.Linear(768, 256)\n",
    "        self.leaky_relu = nn.LeakyReLU(0.2)\n",
    "        self.dropout2 = nn.Dropout(0.2)\n",
    "        self.fc2 = nn.Linear(256, num_classes + 1)\n",
    "    \n",
    "    def forward(self, x):\n",
    "        x = self.dropout1(x)\n",
    "        x = self.fc1(x)\n",
    "        x = self.leaky_relu(x)\n",
    "        y = self.dropout2(x)\n",
    "        y = self.fc2(y)\n",
    "        return y, x\n",
    "\n",
    "class BERT(nn.Module):\n",
    "    def __init__(self):\n",
    "        super(BERT, self).__init__()\n",
    "        self.bert = AutoModel.from_pretrained('bert-base-cased')\n",
    "    \n",
    "    def forward(self, input_ids, attention_mask):\n",
    "        return self.bert(input_ids, attention_mask=attention_mask).pooler_output\n",
    "\n",
    "class GeneratorG1(nn.Module):\n",
    "    def __init__(self):\n",
    "        super(GeneratorG1, self).__init__()\n",
    "        self.fc1 = nn.Linear(100, 768)\n",
    "        self.leaky_relu = nn.LeakyReLU(0.2)\n",
    "        self.dropout = nn.Dropout(0.2)\n",
    "        self.fc2 = nn.Linear(768, 768)\n",
    "\n",
    "    def forward(self, x):\n",
    "        x = self.fc1(x)\n",
    "        x = self.leaky_relu(x)\n",
    "        x = self.dropout(x)\n",
    "        x = self.fc2(x)\n",
    "        return x\n",
    "    \n",
    "class GeneratorG2(nn.Module):\n",
    "    def __init__(self):\n",
    "        super(GeneratorG2, self).__init__()\n",
    "        self.bert = AutoModel.from_pretrained('bert-base-cased')\n",
    "\n",
    "    def forward(self, input_ids, attention_mask):\n",
    "        return self.bert(input_ids, attention_mask=attention_mask).pooler_output"
   ]
  },
  {
   "cell_type": "code",
   "execution_count": 7,
   "metadata": {},
   "outputs": [],
   "source": [
    "def evaluate_discriminator(discriminator, bert, loader):\n",
    "    discriminator.eval()\n",
    "    bert.eval()\n",
    "    correct = 0\n",
    "    total = 0\n",
    "    with torch.no_grad():\n",
    "        pbar = tqdm(loader)\n",
    "        for batch in pbar:\n",
    "            input_ids = batch['input_ids'].to(device)\n",
    "            attention_mask = batch['attention_mask'].to(device)\n",
    "            labels = batch['labels'].to(device)\n",
    "            outputs, _ = discriminator(bert(input_ids, attention_mask=attention_mask))\n",
    "            _, predicted = torch.max(outputs, 1)\n",
    "            correct += (predicted == labels).sum().item()\n",
    "            total += labels.size(0)\n",
    "            pbar.set_description(f\"Accuracy: {correct / total}\")\n",
    "    return correct / total\n",
    "\n",
    "def train_gan_g1(generator, discriminator, bert, loader, epochs=3, num_classes=6):\n",
    "    optimizer_g = torch.optim.AdamW(generator.parameters(), lr=1e-4)\n",
    "    optimizer_d = torch.optim.AdamW(discriminator.parameters(), lr=2.5e-4)\n",
    "    optimizer_b = torch.optim.AdamW(bert.parameters(), lr=5e-5)\n",
    "    generator.train()\n",
    "    accuracys = []\n",
    "    torch.manual_seed(42)\n",
    "    for epoch in range(epochs):\n",
    "        discriminator.train()\n",
    "        bert.train()\n",
    "        pbar = tqdm(loader, desc=f\"Epoch {epoch+1}/{epochs}\")\n",
    "        for batch in pbar:\n",
    "            input_ids = batch['input_ids'].to(device)\n",
    "            attention_mask = batch['attention_mask'].to(device)\n",
    "            labels = batch['labels'].to(device)\n",
    "            optimizer_d.zero_grad()\n",
    "            optimizer_b.zero_grad()\n",
    "            fake_size = 2 * labels.size(0) // num_classes\n",
    "            Z = torch.randn(fake_size, 100).to(device)\n",
    "            generated = generator(Z)\n",
    "            fake_logits, _ = discriminator(generated)\n",
    "            fake_probs = F.softmax(fake_logits, dim=-1)\n",
    "            bert_outputs = bert(input_ids, attention_mask=attention_mask)\n",
    "            real_logits, real_features = discriminator(bert_outputs)\n",
    "            real_features = real_features.detach()\n",
    "            real_probs = F.softmax(real_logits, dim=-1)\n",
    "            real_logprobs = F.log_softmax(real_logits[:, :-1], dim=-1)\n",
    "            label2one_hot = F.one_hot(labels, num_classes).to(device)\n",
    "            loss_supervised = -torch.sum(label2one_hot * real_logprobs, dim=-1).mean()\n",
    "            loss_unsupervised = -torch.mean(torch.log(1 - real_probs[:, -1] + 1e-8)) - torch.mean(torch.log(fake_probs[:, -1] + 1e-8))\n",
    "            loss_d = loss_supervised + loss_unsupervised\n",
    "            loss_d.backward()\n",
    "            optimizer_d.step()\n",
    "            optimizer_b.step()\n",
    "            optimizer_g.zero_grad()\n",
    "            generated = generator(Z)\n",
    "            fake_logits, fake_features = discriminator(generated)\n",
    "            fake_probs = F.softmax(fake_logits, dim=-1)\n",
    "            loss_g = -1 * torch.mean(torch.log(1 - fake_probs[:,-1] + 1e-8)) + (fake_features.mean(0) - real_features.mean(0)).pow(2).mean()\n",
    "            loss_g.backward()\n",
    "            optimizer_g.step()\n",
    "            pbar.set_description(f\"Loss G: {loss_g.item():.4f} - Loss D: {loss_d.item():.4f}\")\n",
    "        accuracy = evaluate_discriminator(discriminator, bert, test_loader)\n",
    "        accuracys.append(accuracy)\n",
    "        print(f\"Epoch {epoch+1}/{epochs} - Accuracy: {accuracy}\")\n",
    "    return accuracys"
   ]
  },
  {
   "cell_type": "markdown",
   "metadata": {},
   "source": [
    "## Generator G1"
   ]
  },
  {
   "cell_type": "markdown",
   "metadata": {},
   "source": [
    "### 1%"
   ]
  },
  {
   "cell_type": "code",
   "execution_count": 17,
   "metadata": {},
   "outputs": [
    {
     "name": "stderr",
     "output_type": "stream",
     "text": [
      "Loss G: 0.2785 - Loss D: 3.7246: 100%|██████████| 12/12 [00:06<00:00,  1.80it/s]\n",
      "Accuracy: 0.18366666666666667: 100%|██████████| 47/47 [00:10<00:00,  4.29it/s] \n"
     ]
    },
    {
     "name": "stdout",
     "output_type": "stream",
     "text": [
      "Epoch 1/30 - Accuracy: 0.18366666666666667\n"
     ]
    },
    {
     "name": "stderr",
     "output_type": "stream",
     "text": [
      "Loss G: 0.2736 - Loss D: 3.7119: 100%|██████████| 12/12 [00:07<00:00,  1.67it/s]\n",
      "Accuracy: 0.21366666666666667: 100%|██████████| 47/47 [00:10<00:00,  4.36it/s] \n"
     ]
    },
    {
     "name": "stdout",
     "output_type": "stream",
     "text": [
      "Epoch 2/30 - Accuracy: 0.21366666666666667\n"
     ]
    },
    {
     "name": "stderr",
     "output_type": "stream",
     "text": [
      "Loss G: 0.3049 - Loss D: 3.5455: 100%|██████████| 12/12 [00:07<00:00,  1.64it/s]\n",
      "Accuracy: 0.20133333333333334: 100%|██████████| 47/47 [00:11<00:00,  4.23it/s]\n"
     ]
    },
    {
     "name": "stdout",
     "output_type": "stream",
     "text": [
      "Epoch 3/30 - Accuracy: 0.20133333333333334\n"
     ]
    },
    {
     "name": "stderr",
     "output_type": "stream",
     "text": [
      "Loss G: 0.6213 - Loss D: 3.4163: 100%|██████████| 12/12 [00:07<00:00,  1.70it/s]\n",
      "Accuracy: 0.16666666666666666: 100%|██████████| 47/47 [00:11<00:00,  4.15it/s]\n"
     ]
    },
    {
     "name": "stdout",
     "output_type": "stream",
     "text": [
      "Epoch 4/30 - Accuracy: 0.16666666666666666\n"
     ]
    },
    {
     "name": "stderr",
     "output_type": "stream",
     "text": [
      "Loss G: 0.6084 - Loss D: 3.6801: 100%|██████████| 12/12 [00:06<00:00,  1.73it/s]\n",
      "Accuracy: 0.26966666666666667: 100%|██████████| 47/47 [00:11<00:00,  4.27it/s]\n"
     ]
    },
    {
     "name": "stdout",
     "output_type": "stream",
     "text": [
      "Epoch 5/30 - Accuracy: 0.26966666666666667\n"
     ]
    },
    {
     "name": "stderr",
     "output_type": "stream",
     "text": [
      "Loss G: 0.4926 - Loss D: 3.1264: 100%|██████████| 12/12 [00:07<00:00,  1.62it/s]\n",
      "Accuracy: 0.22433333333333333: 100%|██████████| 47/47 [00:10<00:00,  4.36it/s]\n"
     ]
    },
    {
     "name": "stdout",
     "output_type": "stream",
     "text": [
      "Epoch 6/30 - Accuracy: 0.22433333333333333\n"
     ]
    },
    {
     "name": "stderr",
     "output_type": "stream",
     "text": [
      "Loss G: 0.7396 - Loss D: 3.4301: 100%|██████████| 12/12 [00:07<00:00,  1.62it/s]\n",
      "Accuracy: 0.16066666666666668: 100%|██████████| 47/47 [00:10<00:00,  4.37it/s]\n"
     ]
    },
    {
     "name": "stdout",
     "output_type": "stream",
     "text": [
      "Epoch 7/30 - Accuracy: 0.16066666666666668\n"
     ]
    },
    {
     "name": "stderr",
     "output_type": "stream",
     "text": [
      "Loss G: 0.6044 - Loss D: 2.9383: 100%|██████████| 12/12 [00:07<00:00,  1.65it/s]\n",
      "Accuracy: 0.2623333333333333: 100%|██████████| 47/47 [00:10<00:00,  4.46it/s] \n"
     ]
    },
    {
     "name": "stdout",
     "output_type": "stream",
     "text": [
      "Epoch 8/30 - Accuracy: 0.2623333333333333\n"
     ]
    },
    {
     "name": "stderr",
     "output_type": "stream",
     "text": [
      "Loss G: 1.0576 - Loss D: 3.0358: 100%|██████████| 12/12 [00:07<00:00,  1.65it/s]\n",
      "Accuracy: 0.27066666666666667: 100%|██████████| 47/47 [00:10<00:00,  4.44it/s] \n"
     ]
    },
    {
     "name": "stdout",
     "output_type": "stream",
     "text": [
      "Epoch 9/30 - Accuracy: 0.27066666666666667\n"
     ]
    },
    {
     "name": "stderr",
     "output_type": "stream",
     "text": [
      "Loss G: 1.4809 - Loss D: 2.3300: 100%|██████████| 12/12 [00:07<00:00,  1.66it/s]\n",
      "Accuracy: 0.249: 100%|██████████| 47/47 [00:10<00:00,  4.35it/s]              \n"
     ]
    },
    {
     "name": "stdout",
     "output_type": "stream",
     "text": [
      "Epoch 10/30 - Accuracy: 0.249\n"
     ]
    },
    {
     "name": "stderr",
     "output_type": "stream",
     "text": [
      "Loss G: 1.9272 - Loss D: 1.6248: 100%|██████████| 12/12 [00:07<00:00,  1.62it/s]\n",
      "Accuracy: 0.20933333333333334: 100%|██████████| 47/47 [00:10<00:00,  4.30it/s]\n"
     ]
    },
    {
     "name": "stdout",
     "output_type": "stream",
     "text": [
      "Epoch 11/30 - Accuracy: 0.20933333333333334\n"
     ]
    },
    {
     "name": "stderr",
     "output_type": "stream",
     "text": [
      "Loss G: 2.4516 - Loss D: 2.1016: 100%|██████████| 12/12 [00:07<00:00,  1.67it/s]\n",
      "Accuracy: 0.2: 100%|██████████| 47/47 [00:11<00:00,  4.23it/s]                \n"
     ]
    },
    {
     "name": "stdout",
     "output_type": "stream",
     "text": [
      "Epoch 12/30 - Accuracy: 0.2\n"
     ]
    },
    {
     "name": "stderr",
     "output_type": "stream",
     "text": [
      "Loss G: 1.5978 - Loss D: 2.3599: 100%|██████████| 12/12 [00:07<00:00,  1.71it/s]\n",
      "Accuracy: 0.21233333333333335: 100%|██████████| 47/47 [00:11<00:00,  4.21it/s]\n"
     ]
    },
    {
     "name": "stdout",
     "output_type": "stream",
     "text": [
      "Epoch 13/30 - Accuracy: 0.21233333333333335\n"
     ]
    },
    {
     "name": "stderr",
     "output_type": "stream",
     "text": [
      "Loss G: 1.8903 - Loss D: 1.9093: 100%|██████████| 12/12 [00:07<00:00,  1.66it/s]\n",
      "Accuracy: 0.17733333333333334: 100%|██████████| 47/47 [00:10<00:00,  4.28it/s]\n"
     ]
    },
    {
     "name": "stdout",
     "output_type": "stream",
     "text": [
      "Epoch 14/30 - Accuracy: 0.17733333333333334\n"
     ]
    },
    {
     "name": "stderr",
     "output_type": "stream",
     "text": [
      "Loss G: 2.4643 - Loss D: 1.4396: 100%|██████████| 12/12 [00:07<00:00,  1.64it/s]\n",
      "Accuracy: 0.21233333333333335: 100%|██████████| 47/47 [00:10<00:00,  4.41it/s]\n"
     ]
    },
    {
     "name": "stdout",
     "output_type": "stream",
     "text": [
      "Epoch 15/30 - Accuracy: 0.21233333333333335\n"
     ]
    },
    {
     "name": "stderr",
     "output_type": "stream",
     "text": [
      "Loss G: 2.0583 - Loss D: 1.4207: 100%|██████████| 12/12 [00:07<00:00,  1.65it/s]\n",
      "Accuracy: 0.28933333333333333: 100%|██████████| 47/47 [00:10<00:00,  4.38it/s]\n"
     ]
    },
    {
     "name": "stdout",
     "output_type": "stream",
     "text": [
      "Epoch 16/30 - Accuracy: 0.28933333333333333\n"
     ]
    },
    {
     "name": "stderr",
     "output_type": "stream",
     "text": [
      "Loss G: 1.8891 - Loss D: 1.8854: 100%|██████████| 12/12 [00:07<00:00,  1.67it/s]\n",
      "Accuracy: 0.26266666666666666: 100%|██████████| 47/47 [00:11<00:00,  4.13it/s]\n"
     ]
    },
    {
     "name": "stdout",
     "output_type": "stream",
     "text": [
      "Epoch 17/30 - Accuracy: 0.26266666666666666\n"
     ]
    },
    {
     "name": "stderr",
     "output_type": "stream",
     "text": [
      "Loss G: 2.4548 - Loss D: 2.0252: 100%|██████████| 12/12 [00:06<00:00,  1.72it/s]\n",
      "Accuracy: 0.25266666666666665: 100%|██████████| 47/47 [00:11<00:00,  4.26it/s]\n"
     ]
    },
    {
     "name": "stdout",
     "output_type": "stream",
     "text": [
      "Epoch 18/30 - Accuracy: 0.25266666666666665\n"
     ]
    },
    {
     "name": "stderr",
     "output_type": "stream",
     "text": [
      "Loss G: 1.8922 - Loss D: 1.5800: 100%|██████████| 12/12 [00:06<00:00,  1.72it/s]\n",
      "Accuracy: 0.30533333333333335: 100%|██████████| 47/47 [00:11<00:00,  4.18it/s]\n"
     ]
    },
    {
     "name": "stdout",
     "output_type": "stream",
     "text": [
      "Epoch 19/30 - Accuracy: 0.30533333333333335\n"
     ]
    },
    {
     "name": "stderr",
     "output_type": "stream",
     "text": [
      "Loss G: 2.6863 - Loss D: 2.2415: 100%|██████████| 12/12 [00:07<00:00,  1.67it/s]\n",
      "Accuracy: 0.32033333333333336: 100%|██████████| 47/47 [00:10<00:00,  4.38it/s]\n"
     ]
    },
    {
     "name": "stdout",
     "output_type": "stream",
     "text": [
      "Epoch 20/30 - Accuracy: 0.32033333333333336\n"
     ]
    },
    {
     "name": "stderr",
     "output_type": "stream",
     "text": [
      "Loss G: 0.8919 - Loss D: 2.6267: 100%|██████████| 12/12 [00:07<00:00,  1.64it/s]\n",
      "Accuracy: 0.30666666666666664: 100%|██████████| 47/47 [00:10<00:00,  4.36it/s]\n"
     ]
    },
    {
     "name": "stdout",
     "output_type": "stream",
     "text": [
      "Epoch 21/30 - Accuracy: 0.30666666666666664\n"
     ]
    },
    {
     "name": "stderr",
     "output_type": "stream",
     "text": [
      "Loss G: 1.5746 - Loss D: 1.6666: 100%|██████████| 12/12 [00:07<00:00,  1.66it/s]\n",
      "Accuracy: 0.3436666666666667: 100%|██████████| 47/47 [00:10<00:00,  4.40it/s] \n"
     ]
    },
    {
     "name": "stdout",
     "output_type": "stream",
     "text": [
      "Epoch 22/30 - Accuracy: 0.3436666666666667\n"
     ]
    },
    {
     "name": "stderr",
     "output_type": "stream",
     "text": [
      "Loss G: 1.8718 - Loss D: 1.5053: 100%|██████████| 12/12 [00:07<00:00,  1.63it/s]\n",
      "Accuracy: 0.32133333333333336: 100%|██████████| 47/47 [00:10<00:00,  4.42it/s]\n"
     ]
    },
    {
     "name": "stdout",
     "output_type": "stream",
     "text": [
      "Epoch 23/30 - Accuracy: 0.32133333333333336\n"
     ]
    },
    {
     "name": "stderr",
     "output_type": "stream",
     "text": [
      "Loss G: 1.1673 - Loss D: 1.5399: 100%|██████████| 12/12 [00:07<00:00,  1.63it/s]\n",
      "Accuracy: 0.2876666666666667: 100%|██████████| 47/47 [00:10<00:00,  4.39it/s] \n"
     ]
    },
    {
     "name": "stdout",
     "output_type": "stream",
     "text": [
      "Epoch 24/30 - Accuracy: 0.2876666666666667\n"
     ]
    },
    {
     "name": "stderr",
     "output_type": "stream",
     "text": [
      "Loss G: 1.0474 - Loss D: 2.3893: 100%|██████████| 12/12 [00:07<00:00,  1.65it/s]\n",
      "Accuracy: 0.3983333333333333: 100%|██████████| 47/47 [00:11<00:00,  4.15it/s] \n"
     ]
    },
    {
     "name": "stdout",
     "output_type": "stream",
     "text": [
      "Epoch 25/30 - Accuracy: 0.3983333333333333\n"
     ]
    },
    {
     "name": "stderr",
     "output_type": "stream",
     "text": [
      "Loss G: 1.8436 - Loss D: 1.5432: 100%|██████████| 12/12 [00:07<00:00,  1.71it/s]\n",
      "Accuracy: 0.398: 100%|██████████| 47/47 [00:10<00:00,  4.30it/s]              \n"
     ]
    },
    {
     "name": "stdout",
     "output_type": "stream",
     "text": [
      "Epoch 26/30 - Accuracy: 0.398\n"
     ]
    },
    {
     "name": "stderr",
     "output_type": "stream",
     "text": [
      "Loss G: 2.1990 - Loss D: 0.8839: 100%|██████████| 12/12 [00:07<00:00,  1.70it/s]\n",
      "Accuracy: 0.40166666666666667: 100%|██████████| 47/47 [00:10<00:00,  4.45it/s]\n"
     ]
    },
    {
     "name": "stdout",
     "output_type": "stream",
     "text": [
      "Epoch 27/30 - Accuracy: 0.40166666666666667\n"
     ]
    },
    {
     "name": "stderr",
     "output_type": "stream",
     "text": [
      "Loss G: 1.5341 - Loss D: 2.6704: 100%|██████████| 12/12 [00:07<00:00,  1.63it/s]\n",
      "Accuracy: 0.418: 100%|██████████| 47/47 [00:11<00:00,  4.21it/s]              \n"
     ]
    },
    {
     "name": "stdout",
     "output_type": "stream",
     "text": [
      "Epoch 28/30 - Accuracy: 0.418\n"
     ]
    },
    {
     "name": "stderr",
     "output_type": "stream",
     "text": [
      "Loss G: 1.3697 - Loss D: 1.8490: 100%|██████████| 12/12 [00:07<00:00,  1.68it/s]\n",
      "Accuracy: 0.32866666666666666: 100%|██████████| 47/47 [00:10<00:00,  4.36it/s]\n"
     ]
    },
    {
     "name": "stdout",
     "output_type": "stream",
     "text": [
      "Epoch 29/30 - Accuracy: 0.32866666666666666\n"
     ]
    },
    {
     "name": "stderr",
     "output_type": "stream",
     "text": [
      "Loss G: 1.9678 - Loss D: 0.9187: 100%|██████████| 12/12 [00:07<00:00,  1.67it/s]\n",
      "Accuracy: 0.385: 100%|██████████| 47/47 [00:10<00:00,  4.47it/s]              "
     ]
    },
    {
     "name": "stdout",
     "output_type": "stream",
     "text": [
      "Epoch 30/30 - Accuracy: 0.385\n"
     ]
    },
    {
     "name": "stderr",
     "output_type": "stream",
     "text": [
      "\n"
     ]
    },
    {
     "data": {
      "image/png": "[encoded data removed]",
      "text/plain": [
       "<Figure size 640x480 with 1 Axes>"
      ]
     },
     "metadata": {},
     "output_type": "display_data"
    }
   ],
   "source": [
    "bert = BERT().to(device)\n",
    "generator_g1 = GeneratorG1().to(device)\n",
    "discriminator = Discriminator(6).to(device)\n",
    "accs_g1_1 = train_gan_g1(generator_g1, discriminator, bert, sample_1_loader, epochs=30)\n",
    "plot(accs_g1_1, 'GAN-BERT G1 1%')"
   ]
  },
  {
   "cell_type": "markdown",
   "metadata": {},
   "source": [
    "### 5%"
   ]
  },
  {
   "cell_type": "code",
   "execution_count": 18,
   "metadata": {},
   "outputs": [
    {
     "name": "stderr",
     "output_type": "stream",
     "text": [
      "Loss G: 0.5052 - Loss D: 3.3161: 100%|██████████| 56/56 [00:29<00:00,  1.88it/s]\n",
      "Accuracy: 0.2783333333333333: 100%|██████████| 47/47 [00:09<00:00,  4.81it/s] \n"
     ]
    },
    {
     "name": "stdout",
     "output_type": "stream",
     "text": [
      "Epoch 1/6 - Accuracy: 0.2783333333333333\n"
     ]
    },
    {
     "name": "stderr",
     "output_type": "stream",
     "text": [
      "Loss G: 1.2164 - Loss D: 2.7158: 100%|██████████| 56/56 [00:33<00:00,  1.65it/s]\n",
      "Accuracy: 0.19833333333333333: 100%|██████████| 47/47 [00:11<00:00,  4.18it/s]\n"
     ]
    },
    {
     "name": "stdout",
     "output_type": "stream",
     "text": [
      "Epoch 2/6 - Accuracy: 0.19833333333333333\n"
     ]
    },
    {
     "name": "stderr",
     "output_type": "stream",
     "text": [
      "Loss G: 2.1659 - Loss D: 1.5906: 100%|██████████| 56/56 [00:34<00:00,  1.61it/s]\n",
      "Accuracy: 0.38166666666666665: 100%|██████████| 47/47 [00:10<00:00,  4.44it/s]\n"
     ]
    },
    {
     "name": "stdout",
     "output_type": "stream",
     "text": [
      "Epoch 3/6 - Accuracy: 0.38166666666666665\n"
     ]
    },
    {
     "name": "stderr",
     "output_type": "stream",
     "text": [
      "Loss G: 2.7419 - Loss D: 1.4817: 100%|██████████| 56/56 [00:35<00:00,  1.60it/s]\n",
      "Accuracy: 0.448: 100%|██████████| 47/47 [00:11<00:00,  4.09it/s]              \n"
     ]
    },
    {
     "name": "stdout",
     "output_type": "stream",
     "text": [
      "Epoch 4/6 - Accuracy: 0.448\n"
     ]
    },
    {
     "name": "stderr",
     "output_type": "stream",
     "text": [
      "Loss G: 2.3175 - Loss D: 1.1443: 100%|██████████| 56/56 [00:34<00:00,  1.60it/s]\n",
      "Accuracy: 0.4876666666666667: 100%|██████████| 47/47 [00:10<00:00,  4.36it/s] \n"
     ]
    },
    {
     "name": "stdout",
     "output_type": "stream",
     "text": [
      "Epoch 5/6 - Accuracy: 0.4876666666666667\n"
     ]
    },
    {
     "name": "stderr",
     "output_type": "stream",
     "text": [
      "Loss G: 1.7263 - Loss D: 1.2666: 100%|██████████| 56/56 [00:35<00:00,  1.60it/s]\n",
      "Accuracy: 0.3983333333333333: 100%|██████████| 47/47 [00:10<00:00,  4.42it/s] "
     ]
    },
    {
     "name": "stdout",
     "output_type": "stream",
     "text": [
      "Epoch 6/6 - Accuracy: 0.3983333333333333\n"
     ]
    },
    {
     "name": "stderr",
     "output_type": "stream",
     "text": [
      "\n"
     ]
    },
    {
     "data": {
      "image/png": "[encoded data removed]",
      "text/plain": [
       "<Figure size 640x480 with 1 Axes>"
      ]
     },
     "metadata": {},
     "output_type": "display_data"
    }
   ],
   "source": [
    "bert = BERT().to(device)\n",
    "generator_g1 = GeneratorG1().to(device)\n",
    "discriminator = Discriminator(6).to(device)\n",
    "accs_g1_2 = train_gan_g1(generator_g1, discriminator, bert, sample_2_loader, epochs=6)\n",
    "plot(accs_g1_2, 'GAN-BERT G1 5%')"
   ]
  },
  {
   "cell_type": "markdown",
   "metadata": {},
   "source": [
    "### 10%"
   ]
  },
  {
   "cell_type": "code",
   "execution_count": 19,
   "metadata": {},
   "outputs": [
    {
     "name": "stderr",
     "output_type": "stream",
     "text": [
      "Loss G: 0.9634 - Loss D: 2.3790: 100%|██████████| 111/111 [01:08<00:00,  1.61it/s]\n",
      "Accuracy: 0.31833333333333336: 100%|██████████| 47/47 [00:11<00:00,  4.12it/s]\n"
     ]
    },
    {
     "name": "stdout",
     "output_type": "stream",
     "text": [
      "Epoch 1/3 - Accuracy: 0.31833333333333336\n"
     ]
    },
    {
     "name": "stderr",
     "output_type": "stream",
     "text": [
      "Loss G: 2.5381 - Loss D: 1.3776: 100%|██████████| 111/111 [01:10<00:00,  1.57it/s]\n",
      "Accuracy: 0.49: 100%|██████████| 47/47 [00:11<00:00,  4.18it/s]               \n"
     ]
    },
    {
     "name": "stdout",
     "output_type": "stream",
     "text": [
      "Epoch 2/3 - Accuracy: 0.49\n"
     ]
    },
    {
     "name": "stderr",
     "output_type": "stream",
     "text": [
      "Loss G: 1.8894 - Loss D: 1.3495: 100%|██████████| 111/111 [01:09<00:00,  1.59it/s]\n",
      "Accuracy: 0.477: 100%|██████████| 47/47 [00:11<00:00,  4.15it/s]              "
     ]
    },
    {
     "name": "stdout",
     "output_type": "stream",
     "text": [
      "Epoch 3/3 - Accuracy: 0.477\n"
     ]
    },
    {
     "name": "stderr",
     "output_type": "stream",
     "text": [
      "\n"
     ]
    },
    {
     "data": {
      "image/png": "[encoded data removed]",
      "text/plain": [
       "<Figure size 640x480 with 1 Axes>"
      ]
     },
     "metadata": {},
     "output_type": "display_data"
    }
   ],
   "source": [
    "bert = BERT().to(device)\n",
    "generator_g1 = GeneratorG1().to(device)\n",
    "discriminator = Discriminator(6).to(device)\n",
    "accs_g1_3 = train_gan_g1(generator_g1, discriminator, bert, sample_3_loader, epochs=3)\n",
    "plot(accs_g1_3, 'GAN-BERT G1 10%')"
   ]
  },
  {
   "cell_type": "markdown",
   "metadata": {},
   "source": [
    "### 50%"
   ]
  },
  {
   "cell_type": "code",
   "execution_count": 20,
   "metadata": {},
   "outputs": [
    {
     "name": "stderr",
     "output_type": "stream",
     "text": [
      "Loss G: 2.7726 - Loss D: 0.9163: 100%|██████████| 555/555 [05:44<00:00,  1.61it/s]\n",
      "Accuracy: 0.4856666666666667: 100%|██████████| 47/47 [00:11<00:00,  4.09it/s] \n"
     ]
    },
    {
     "name": "stdout",
     "output_type": "stream",
     "text": [
      "Epoch 1/3 - Accuracy: 0.4856666666666667\n"
     ]
    },
    {
     "name": "stderr",
     "output_type": "stream",
     "text": [
      "Loss G: 3.5374 - Loss D: 0.8899: 100%|██████████| 555/555 [05:48<00:00,  1.59it/s]\n",
      "Accuracy: 0.501: 100%|██████████| 47/47 [00:10<00:00,  4.32it/s]              \n"
     ]
    },
    {
     "name": "stdout",
     "output_type": "stream",
     "text": [
      "Epoch 2/3 - Accuracy: 0.501\n"
     ]
    },
    {
     "name": "stderr",
     "output_type": "stream",
     "text": [
      "Loss G: 3.3159 - Loss D: 0.6847: 100%|██████████| 555/555 [05:46<00:00,  1.60it/s]\n",
      "Accuracy: 0.503: 100%|██████████| 47/47 [00:11<00:00,  4.20it/s]              "
     ]
    },
    {
     "name": "stdout",
     "output_type": "stream",
     "text": [
      "Epoch 3/3 - Accuracy: 0.503\n"
     ]
    },
    {
     "name": "stderr",
     "output_type": "stream",
     "text": [
      "\n"
     ]
    },
    {
     "data": {
      "image/png": "[encoded data removed]",
      "text/plain": [
       "<Figure size 640x480 with 1 Axes>"
      ]
     },
     "metadata": {},
     "output_type": "display_data"
    }
   ],
   "source": [
    "bert = BERT().to(device)\n",
    "generator_g1 = GeneratorG1().to(device)\n",
    "discriminator = Discriminator(6).to(device)\n",
    "accs_g1_4 = train_gan_g1(generator_g1, discriminator, bert, sample_4_loader, epochs=3)\n",
    "plot(accs_g1_4, 'GAN-BERT G1 50%')"
   ]
  },
  {
   "cell_type": "markdown",
   "metadata": {},
   "source": [
    "## Generator G2"
   ]
  },
  {
   "cell_type": "code",
   "execution_count": 21,
   "metadata": {},
   "outputs": [
    {
     "name": "stderr",
     "output_type": "stream",
     "text": [
      "100%|██████████| 555/555 [00:05<00:00, 102.25it/s]\n"
     ]
    }
   ],
   "source": [
    "import bisect\n",
    "\n",
    "def get_tokens_distribution(loader):\n",
    "    tokens = dict()\n",
    "    for batch in tqdm(loader):\n",
    "        input_ids = batch['input_ids']\n",
    "        attention_mask = batch['attention_mask']\n",
    "        for i in range(input_ids.size(0)):\n",
    "            tokens_ids = input_ids[i][attention_mask[i] == 1]\n",
    "            for token_id in tokens_ids:\n",
    "                if token_id.item() in tokens:\n",
    "                    tokens[token_id.item()] += 1\n",
    "                else:\n",
    "                    tokens[token_id.item()] = 1\n",
    "    return tokens\n",
    "\n",
    "def init_tokens_distribution(loader):\n",
    "    tokens = get_tokens_distribution(loader)\n",
    "    token_probs = dict()\n",
    "    total = sum(tokens.values())\n",
    "    for token, count in tokens.items():\n",
    "        token_probs[token] = count / total\n",
    "    CDF = []\n",
    "    tokens = list(token_probs.keys())\n",
    "    cumulative = 0\n",
    "    for token in tokens:\n",
    "        prob = token_probs[token]\n",
    "        cumulative += prob\n",
    "        CDF.append(cumulative)\n",
    "    return CDF, tokens\n",
    "\n",
    "def sample_tokens(CDF, tokens, n):\n",
    "    out = []\n",
    "    rands = torch.rand(n)\n",
    "    for i in range(n):\n",
    "        r = rands[i].item()\n",
    "        idx = bisect.bisect_left(CDF, r)\n",
    "        out.append(tokens[idx])\n",
    "    return out\n",
    "\n",
    "CDF, tokens = init_tokens_distribution(sample_4_loader)"
   ]
  },
  {
   "cell_type": "code",
   "execution_count": 22,
   "metadata": {},
   "outputs": [],
   "source": [
    "def train_gan_g2(generator, discriminator, bert, loader, epochs=3, num_classes=6):\n",
    "    optimizer_g = torch.optim.AdamW(generator.parameters(), lr=5e-5)\n",
    "    optimizer_d = torch.optim.AdamW(discriminator.parameters(), lr=2.5e-4)\n",
    "    optimizer_b = torch.optim.AdamW(bert.parameters(), lr=5e-5)\n",
    "    generator.train()\n",
    "    accuracys = []\n",
    "    torch.manual_seed(42)\n",
    "    for epoch in range(epochs):\n",
    "        discriminator.train()\n",
    "        bert.train()\n",
    "        pbar = tqdm(loader, desc=f\"Epoch {epoch+1}/{epochs}\")\n",
    "        for batch in pbar:\n",
    "            input_ids = batch['input_ids'].to(device)\n",
    "            attention_mask = batch['attention_mask'].to(device)\n",
    "            labels = batch['labels'].to(device)\n",
    "            optimizer_d.zero_grad()\n",
    "            optimizer_b.zero_grad()\n",
    "            fake_size = 2 * labels.size(0) // num_classes\n",
    "            Z = torch.tensor(sample_tokens(CDF, tokens, fake_size)).reshape(-1, 1).to(device)\n",
    "            Z_attention_mask = torch.ones_like(Z)\n",
    "            generated = generator(Z, attention_mask=Z_attention_mask)\n",
    "            fake_logits, _ = discriminator(generated)\n",
    "            fake_probs = F.softmax(fake_logits, dim=-1)\n",
    "            bert_outputs = bert(input_ids, attention_mask=attention_mask)\n",
    "            real_logits, real_features = discriminator(bert_outputs)\n",
    "            real_features = real_features.detach()\n",
    "            real_probs = F.softmax(real_logits, dim=-1)\n",
    "            real_logprobs = F.log_softmax(real_logits[:, :-1], dim=-1)\n",
    "            label2one_hot = F.one_hot(labels, num_classes).to(device)\n",
    "            loss_supervised = -torch.sum(label2one_hot * real_logprobs, dim=-1).mean()\n",
    "            loss_unsupervised = -torch.mean(torch.log(1 - real_probs[:, -1] + 1e-8)) - torch.mean(torch.log(fake_probs[:, -1] + 1e-8))\n",
    "            loss_d = loss_supervised + loss_unsupervised\n",
    "            loss_d.backward(retain_graph=True)\n",
    "            optimizer_d.step()\n",
    "            optimizer_b.step()\n",
    "            optimizer_g.zero_grad()\n",
    "            fake_logits, fake_features = discriminator(generated)\n",
    "            fake_probs = F.softmax(fake_logits, dim=-1)\n",
    "            loss_g = -1 * torch.mean(torch.log(1 - fake_probs[:,-1] + 1e-8)) + (fake_features.mean(0) - real_features.mean(0)).pow(2).mean()\n",
    "            loss_g.backward()\n",
    "            optimizer_g.step()\n",
    "            pbar.set_description(f\"Loss G: {loss_g.item():.4f} - Loss D: {loss_d.item():.4f}\")\n",
    "        accuracy = evaluate_discriminator(discriminator, bert, test_loader)\n",
    "        accuracys.append(accuracy)\n",
    "        print(f\"Epoch {epoch+1}/{epochs} - Accuracy: {accuracy}\")\n",
    "    return accuracys"
   ]
  },
  {
   "cell_type": "markdown",
   "metadata": {},
   "source": [
    "### 1%"
   ]
  },
  {
   "cell_type": "code",
   "execution_count": 23,
   "metadata": {},
   "outputs": [
    {
     "name": "stderr",
     "output_type": "stream",
     "text": [
      "Loss G: 0.2346 - Loss D: 4.3752: 100%|██████████| 12/12 [00:31<00:00,  2.60s/it]\n",
      "Accuracy: 0.13: 100%|██████████| 47/47 [00:08<00:00,  5.51it/s]               \n"
     ]
    },
    {
     "name": "stdout",
     "output_type": "stream",
     "text": [
      "Epoch 1/30 - Accuracy: 0.13\n"
     ]
    },
    {
     "name": "stderr",
     "output_type": "stream",
     "text": [
      "Loss G: 0.1500 - Loss D: 4.7618: 100%|██████████| 12/12 [00:30<00:00,  2.58s/it]\n",
      "Accuracy: 0.17133333333333334: 100%|██████████| 47/47 [00:08<00:00,  5.48it/s]\n"
     ]
    },
    {
     "name": "stdout",
     "output_type": "stream",
     "text": [
      "Epoch 2/30 - Accuracy: 0.17133333333333334\n"
     ]
    },
    {
     "name": "stderr",
     "output_type": "stream",
     "text": [
      "Loss G: 1.0475 - Loss D: 4.3312: 100%|██████████| 12/12 [00:31<00:00,  2.66s/it]\n",
      "Accuracy: 0.0: 100%|██████████| 47/47 [00:08<00:00,  5.39it/s]\n"
     ]
    },
    {
     "name": "stdout",
     "output_type": "stream",
     "text": [
      "Epoch 3/30 - Accuracy: 0.0\n"
     ]
    },
    {
     "name": "stderr",
     "output_type": "stream",
     "text": [
      "Loss G: 0.4033 - Loss D: 3.5284: 100%|██████████| 12/12 [00:31<00:00,  2.59s/it]\n",
      "Accuracy: 0.16666666666666666: 100%|██████████| 47/47 [00:08<00:00,  5.28it/s]\n"
     ]
    },
    {
     "name": "stdout",
     "output_type": "stream",
     "text": [
      "Epoch 4/30 - Accuracy: 0.16666666666666666\n"
     ]
    },
    {
     "name": "stderr",
     "output_type": "stream",
     "text": [
      "Loss G: 0.3425 - Loss D: 3.7391: 100%|██████████| 12/12 [00:30<00:00,  2.55s/it]\n",
      "Accuracy: 0.16666666666666666: 100%|██████████| 47/47 [00:08<00:00,  5.38it/s]\n"
     ]
    },
    {
     "name": "stdout",
     "output_type": "stream",
     "text": [
      "Epoch 5/30 - Accuracy: 0.16666666666666666\n"
     ]
    },
    {
     "name": "stderr",
     "output_type": "stream",
     "text": [
      "Loss G: 0.1226 - Loss D: 4.7015: 100%|██████████| 12/12 [00:30<00:00,  2.53s/it]\n",
      "Accuracy: 0.16666666666666666: 100%|██████████| 47/47 [00:08<00:00,  5.48it/s]\n"
     ]
    },
    {
     "name": "stdout",
     "output_type": "stream",
     "text": [
      "Epoch 6/30 - Accuracy: 0.16666666666666666\n"
     ]
    },
    {
     "name": "stderr",
     "output_type": "stream",
     "text": [
      "Loss G: 0.2786 - Loss D: 3.5776: 100%|██████████| 12/12 [00:30<00:00,  2.55s/it]\n",
      "Accuracy: 0.16666666666666666: 100%|██████████| 47/47 [00:08<00:00,  5.53it/s]\n"
     ]
    },
    {
     "name": "stdout",
     "output_type": "stream",
     "text": [
      "Epoch 7/30 - Accuracy: 0.16666666666666666\n"
     ]
    },
    {
     "name": "stderr",
     "output_type": "stream",
     "text": [
      "Loss G: 0.4922 - Loss D: 3.6339: 100%|██████████| 12/12 [00:30<00:00,  2.53s/it]\n",
      "Accuracy: 0.16666666666666666: 100%|██████████| 47/47 [00:08<00:00,  5.47it/s]\n"
     ]
    },
    {
     "name": "stdout",
     "output_type": "stream",
     "text": [
      "Epoch 8/30 - Accuracy: 0.16666666666666666\n"
     ]
    },
    {
     "name": "stderr",
     "output_type": "stream",
     "text": [
      "Loss G: 0.4634 - Loss D: 4.0215: 100%|██████████| 12/12 [00:30<00:00,  2.54s/it]\n",
      "Accuracy: 0.16666666666666666: 100%|██████████| 47/47 [00:08<00:00,  5.26it/s]\n"
     ]
    },
    {
     "name": "stdout",
     "output_type": "stream",
     "text": [
      "Epoch 9/30 - Accuracy: 0.16666666666666666\n"
     ]
    },
    {
     "name": "stderr",
     "output_type": "stream",
     "text": [
      "Loss G: 0.3525 - Loss D: 3.8645: 100%|██████████| 12/12 [00:30<00:00,  2.56s/it]\n",
      "Accuracy: 0.16666666666666666: 100%|██████████| 47/47 [00:08<00:00,  5.41it/s]\n"
     ]
    },
    {
     "name": "stdout",
     "output_type": "stream",
     "text": [
      "Epoch 10/30 - Accuracy: 0.16666666666666666\n"
     ]
    },
    {
     "name": "stderr",
     "output_type": "stream",
     "text": [
      "Loss G: 0.7842 - Loss D: 3.2335: 100%|██████████| 12/12 [00:30<00:00,  2.54s/it]\n",
      "Accuracy: 0.16666666666666666: 100%|██████████| 47/47 [00:08<00:00,  5.47it/s]\n"
     ]
    },
    {
     "name": "stdout",
     "output_type": "stream",
     "text": [
      "Epoch 11/30 - Accuracy: 0.16666666666666666\n"
     ]
    },
    {
     "name": "stderr",
     "output_type": "stream",
     "text": [
      "Loss G: 1.0120 - Loss D: 3.2289: 100%|██████████| 12/12 [00:30<00:00,  2.56s/it]\n",
      "Accuracy: 0.16666666666666666: 100%|██████████| 47/47 [00:08<00:00,  5.54it/s]\n"
     ]
    },
    {
     "name": "stdout",
     "output_type": "stream",
     "text": [
      "Epoch 12/30 - Accuracy: 0.16666666666666666\n"
     ]
    },
    {
     "name": "stderr",
     "output_type": "stream",
     "text": [
      "Loss G: 0.5550 - Loss D: 3.5266: 100%|██████████| 12/12 [00:30<00:00,  2.53s/it]\n",
      "Accuracy: 0.18666666666666668: 100%|██████████| 47/47 [00:08<00:00,  5.46it/s]\n"
     ]
    },
    {
     "name": "stdout",
     "output_type": "stream",
     "text": [
      "Epoch 13/30 - Accuracy: 0.18666666666666668\n"
     ]
    },
    {
     "name": "stderr",
     "output_type": "stream",
     "text": [
      "Loss G: 1.3520 - Loss D: 2.6250: 100%|██████████| 12/12 [00:30<00:00,  2.55s/it]\n",
      "Accuracy: 0.0: 100%|██████████| 47/47 [00:08<00:00,  5.39it/s]\n"
     ]
    },
    {
     "name": "stdout",
     "output_type": "stream",
     "text": [
      "Epoch 14/30 - Accuracy: 0.0\n"
     ]
    },
    {
     "name": "stderr",
     "output_type": "stream",
     "text": [
      "Loss G: 1.7614 - Loss D: 2.8346: 100%|██████████| 12/12 [00:30<00:00,  2.52s/it]\n",
      "Accuracy: 0.178: 100%|██████████| 47/47 [00:08<00:00,  5.45it/s]              \n"
     ]
    },
    {
     "name": "stdout",
     "output_type": "stream",
     "text": [
      "Epoch 15/30 - Accuracy: 0.178\n"
     ]
    },
    {
     "name": "stderr",
     "output_type": "stream",
     "text": [
      "Loss G: 1.3524 - Loss D: 2.4992: 100%|██████████| 12/12 [00:30<00:00,  2.56s/it]\n",
      "Accuracy: 0.26066666666666666: 100%|██████████| 47/47 [00:08<00:00,  5.49it/s]\n"
     ]
    },
    {
     "name": "stdout",
     "output_type": "stream",
     "text": [
      "Epoch 16/30 - Accuracy: 0.26066666666666666\n"
     ]
    },
    {
     "name": "stderr",
     "output_type": "stream",
     "text": [
      "Loss G: 0.4306 - Loss D: 3.4204: 100%|██████████| 12/12 [00:30<00:00,  2.53s/it]\n",
      "Accuracy: 0.16666666666666666: 100%|██████████| 47/47 [00:08<00:00,  5.48it/s]\n"
     ]
    },
    {
     "name": "stdout",
     "output_type": "stream",
     "text": [
      "Epoch 17/30 - Accuracy: 0.16666666666666666\n"
     ]
    },
    {
     "name": "stderr",
     "output_type": "stream",
     "text": [
      "Loss G: 0.7012 - Loss D: 3.3446: 100%|██████████| 12/12 [00:30<00:00,  2.55s/it]\n",
      "Accuracy: 0.005333333333333333: 100%|██████████| 47/47 [00:08<00:00,  5.44it/s] \n"
     ]
    },
    {
     "name": "stdout",
     "output_type": "stream",
     "text": [
      "Epoch 18/30 - Accuracy: 0.005333333333333333\n"
     ]
    },
    {
     "name": "stderr",
     "output_type": "stream",
     "text": [
      "Loss G: 0.2954 - Loss D: 3.7331: 100%|██████████| 12/12 [00:30<00:00,  2.53s/it]\n",
      "Accuracy: 0.022333333333333334: 100%|██████████| 47/47 [00:08<00:00,  5.38it/s] \n"
     ]
    },
    {
     "name": "stdout",
     "output_type": "stream",
     "text": [
      "Epoch 19/30 - Accuracy: 0.022333333333333334\n"
     ]
    },
    {
     "name": "stderr",
     "output_type": "stream",
     "text": [
      "Loss G: 0.4923 - Loss D: 3.5866: 100%|██████████| 12/12 [00:30<00:00,  2.55s/it]\n",
      "Accuracy: 0.19566666666666666: 100%|██████████| 47/47 [00:08<00:00,  5.48it/s]\n"
     ]
    },
    {
     "name": "stdout",
     "output_type": "stream",
     "text": [
      "Epoch 20/30 - Accuracy: 0.19566666666666666\n"
     ]
    },
    {
     "name": "stderr",
     "output_type": "stream",
     "text": [
      "Loss G: 0.6261 - Loss D: 2.8885: 100%|██████████| 12/12 [00:30<00:00,  2.53s/it]\n",
      "Accuracy: 0.13066666666666665: 100%|██████████| 47/47 [00:08<00:00,  5.47it/s] \n"
     ]
    },
    {
     "name": "stdout",
     "output_type": "stream",
     "text": [
      "Epoch 21/30 - Accuracy: 0.13066666666666665\n"
     ]
    },
    {
     "name": "stderr",
     "output_type": "stream",
     "text": [
      "Loss G: 1.1961 - Loss D: 2.6307: 100%|██████████| 12/12 [00:30<00:00,  2.55s/it]\n",
      "Accuracy: 0.174: 100%|██████████| 47/47 [00:08<00:00,  5.53it/s]               \n"
     ]
    },
    {
     "name": "stdout",
     "output_type": "stream",
     "text": [
      "Epoch 22/30 - Accuracy: 0.174\n"
     ]
    },
    {
     "name": "stderr",
     "output_type": "stream",
     "text": [
      "Loss G: 1.1541 - Loss D: 2.6551: 100%|██████████| 12/12 [00:30<00:00,  2.53s/it]\n",
      "Accuracy: 0.11133333333333334: 100%|██████████| 47/47 [00:08<00:00,  5.40it/s] \n"
     ]
    },
    {
     "name": "stdout",
     "output_type": "stream",
     "text": [
      "Epoch 23/30 - Accuracy: 0.11133333333333334\n"
     ]
    },
    {
     "name": "stderr",
     "output_type": "stream",
     "text": [
      "Loss G: 0.7590 - Loss D: 2.7333: 100%|██████████| 12/12 [00:30<00:00,  2.55s/it]\n",
      "Accuracy: 0.15133333333333332: 100%|██████████| 47/47 [00:08<00:00,  5.55it/s] \n"
     ]
    },
    {
     "name": "stdout",
     "output_type": "stream",
     "text": [
      "Epoch 24/30 - Accuracy: 0.15133333333333332\n"
     ]
    },
    {
     "name": "stderr",
     "output_type": "stream",
     "text": [
      "Loss G: 1.2231 - Loss D: 2.7284: 100%|██████████| 12/12 [00:32<00:00,  2.67s/it]\n",
      "Accuracy: 0.16266666666666665: 100%|██████████| 47/47 [00:08<00:00,  5.44it/s] \n"
     ]
    },
    {
     "name": "stdout",
     "output_type": "stream",
     "text": [
      "Epoch 25/30 - Accuracy: 0.16266666666666665\n"
     ]
    },
    {
     "name": "stderr",
     "output_type": "stream",
     "text": [
      "Loss G: 0.5053 - Loss D: 3.4890: 100%|██████████| 12/12 [00:32<00:00,  2.72s/it]\n",
      "Accuracy: 0.16766666666666666: 100%|██████████| 47/47 [00:08<00:00,  5.42it/s]\n"
     ]
    },
    {
     "name": "stdout",
     "output_type": "stream",
     "text": [
      "Epoch 26/30 - Accuracy: 0.16766666666666666\n"
     ]
    },
    {
     "name": "stderr",
     "output_type": "stream",
     "text": [
      "Loss G: 0.5489 - Loss D: 3.3850: 100%|██████████| 12/12 [00:32<00:00,  2.70s/it]\n",
      "Accuracy: 0.10966666666666666: 100%|██████████| 47/47 [00:08<00:00,  5.51it/s] \n"
     ]
    },
    {
     "name": "stdout",
     "output_type": "stream",
     "text": [
      "Epoch 27/30 - Accuracy: 0.10966666666666666\n"
     ]
    },
    {
     "name": "stderr",
     "output_type": "stream",
     "text": [
      "Loss G: 0.8050 - Loss D: 2.9500: 100%|██████████| 12/12 [00:32<00:00,  2.72s/it]\n",
      "Accuracy: 0.20166666666666666: 100%|██████████| 47/47 [00:08<00:00,  5.40it/s] \n"
     ]
    },
    {
     "name": "stdout",
     "output_type": "stream",
     "text": [
      "Epoch 28/30 - Accuracy: 0.20166666666666666\n"
     ]
    },
    {
     "name": "stderr",
     "output_type": "stream",
     "text": [
      "Loss G: 0.2650 - Loss D: 4.0924: 100%|██████████| 12/12 [00:32<00:00,  2.71s/it]\n",
      "Accuracy: 0.23: 100%|██████████| 47/47 [00:08<00:00,  5.42it/s]               \n"
     ]
    },
    {
     "name": "stdout",
     "output_type": "stream",
     "text": [
      "Epoch 29/30 - Accuracy: 0.23\n"
     ]
    },
    {
     "name": "stderr",
     "output_type": "stream",
     "text": [
      "Loss G: 0.9879 - Loss D: 2.6121: 100%|██████████| 12/12 [00:32<00:00,  2.72s/it]\n",
      "Accuracy: 0.057: 100%|██████████| 47/47 [00:08<00:00,  5.30it/s]               "
     ]
    },
    {
     "name": "stdout",
     "output_type": "stream",
     "text": [
      "Epoch 30/30 - Accuracy: 0.057\n"
     ]
    },
    {
     "name": "stderr",
     "output_type": "stream",
     "text": [
      "\n"
     ]
    },
    {
     "data": {
      "image/png": "[encoded data removed]",
      "text/plain": [
       "<Figure size 640x480 with 1 Axes>"
      ]
     },
     "metadata": {},
     "output_type": "display_data"
    }
   ],
   "source": [
    "bert = BERT().to(device)\n",
    "generator_g2 = GeneratorG2().to(device)\n",
    "discriminator = Discriminator(6).to(device)\n",
    "accs_g2_1 = train_gan_g2(generator_g2, discriminator, bert, sample_1_loader, epochs=30)\n",
    "plot(accs_g2_1, 'GAN-BERT G2 1%')"
   ]
  },
  {
   "cell_type": "markdown",
   "metadata": {},
   "source": [
    "### 5%"
   ]
  },
  {
   "cell_type": "code",
   "execution_count": 24,
   "metadata": {},
   "outputs": [
    {
     "name": "stderr",
     "output_type": "stream",
     "text": [
      "Loss G: 0.2445 - Loss D: 4.0241: 100%|██████████| 56/56 [03:09<00:00,  3.38s/it]\n",
      "Accuracy: 0.16666666666666666: 100%|██████████| 47/47 [00:08<00:00,  5.64it/s]\n"
     ]
    },
    {
     "name": "stdout",
     "output_type": "stream",
     "text": [
      "Epoch 1/6 - Accuracy: 0.16666666666666666\n"
     ]
    },
    {
     "name": "stderr",
     "output_type": "stream",
     "text": [
      "Loss G: 0.6537 - Loss D: 3.3028: 100%|██████████| 56/56 [02:59<00:00,  3.20s/it]\n",
      "Accuracy: 0.2966666666666667: 100%|██████████| 47/47 [00:08<00:00,  5.50it/s]  \n"
     ]
    },
    {
     "name": "stdout",
     "output_type": "stream",
     "text": [
      "Epoch 2/6 - Accuracy: 0.2966666666666667\n"
     ]
    },
    {
     "name": "stderr",
     "output_type": "stream",
     "text": [
      "Loss G: 0.1649 - Loss D: 4.0621: 100%|██████████| 56/56 [02:54<00:00,  3.12s/it]\n",
      "Accuracy: 0.3546666666666667: 100%|██████████| 47/47 [00:08<00:00,  5.64it/s] \n"
     ]
    },
    {
     "name": "stdout",
     "output_type": "stream",
     "text": [
      "Epoch 3/6 - Accuracy: 0.3546666666666667\n"
     ]
    },
    {
     "name": "stderr",
     "output_type": "stream",
     "text": [
      "Loss G: 0.4576 - Loss D: 3.3853: 100%|██████████| 56/56 [03:01<00:00,  3.25s/it]\n",
      "Accuracy: 0.3456666666666667: 100%|██████████| 47/47 [00:08<00:00,  5.60it/s] \n"
     ]
    },
    {
     "name": "stdout",
     "output_type": "stream",
     "text": [
      "Epoch 4/6 - Accuracy: 0.3456666666666667\n"
     ]
    },
    {
     "name": "stderr",
     "output_type": "stream",
     "text": [
      "Loss G: 1.0096 - Loss D: 2.8470: 100%|██████████| 56/56 [02:47<00:00,  2.99s/it]\n",
      "Accuracy: 0.29133333333333333: 100%|██████████| 47/47 [00:08<00:00,  5.56it/s]\n"
     ]
    },
    {
     "name": "stdout",
     "output_type": "stream",
     "text": [
      "Epoch 5/6 - Accuracy: 0.29133333333333333\n"
     ]
    },
    {
     "name": "stderr",
     "output_type": "stream",
     "text": [
      "Loss G: 0.8388 - Loss D: 2.4056: 100%|██████████| 56/56 [02:55<00:00,  3.13s/it]\n",
      "Accuracy: 0.285: 100%|██████████| 47/47 [00:08<00:00,  5.56it/s]              \n"
     ]
    },
    {
     "name": "stdout",
     "output_type": "stream",
     "text": [
      "Epoch 6/6 - Accuracy: 0.285\n"
     ]
    },
    {
     "data": {
      "image/png": "[encoded data removed]",
      "text/plain": [
       "<Figure size 640x480 with 1 Axes>"
      ]
     },
     "metadata": {},
     "output_type": "display_data"
    }
   ],
   "source": [
    "bert = BERT().to(device)\n",
    "generator_g2 = GeneratorG2().to(device)\n",
    "discriminator = Discriminator(6).to(device)\n",
    "accs_g2_2 = train_gan_g2(generator_g2, discriminator, bert, sample_2_loader, epochs=6)\n",
    "plot(accs_g2_2, 'GAN-BERT G2 5%')"
   ]
  },
  {
   "cell_type": "markdown",
   "metadata": {},
   "source": [
    "### 10%"
   ]
  },
  {
   "cell_type": "code",
   "execution_count": 25,
   "metadata": {},
   "outputs": [
    {
     "name": "stderr",
     "output_type": "stream",
     "text": [
      "Loss G: 0.2090 - Loss D: 4.4296: 100%|██████████| 111/111 [06:15<00:00,  3.38s/it]\n",
      "Accuracy: 0.30333333333333334: 100%|██████████| 47/47 [01:06<00:00,  1.41s/it] \n"
     ]
    },
    {
     "name": "stdout",
     "output_type": "stream",
     "text": [
      "Epoch 1/3 - Accuracy: 0.30333333333333334\n"
     ]
    },
    {
     "name": "stderr",
     "output_type": "stream",
     "text": [
      "Loss G: 5.6312 - Loss D: 1.3675: 100%|██████████| 111/111 [06:26<00:00,  3.49s/it]\n",
      "Accuracy: 0.3883333333333333: 100%|██████████| 47/47 [00:09<00:00,  4.75it/s] \n"
     ]
    },
    {
     "name": "stdout",
     "output_type": "stream",
     "text": [
      "Epoch 2/3 - Accuracy: 0.3883333333333333\n"
     ]
    },
    {
     "name": "stderr",
     "output_type": "stream",
     "text": [
      "Loss G: 0.8482 - Loss D: 2.3083: 100%|██████████| 111/111 [06:29<00:00,  3.51s/it]\n",
      "Accuracy: 0.454: 100%|██████████| 47/47 [01:06<00:00,  1.41s/it]              "
     ]
    },
    {
     "name": "stdout",
     "output_type": "stream",
     "text": [
      "Epoch 3/3 - Accuracy: 0.454\n"
     ]
    },
    {
     "name": "stderr",
     "output_type": "stream",
     "text": [
      "\n"
     ]
    },
    {
     "data": {
      "image/png": "[encoded data removed]",
      "text/plain": [
       "<Figure size 640x480 with 1 Axes>"
      ]
     },
     "metadata": {},
     "output_type": "display_data"
    }
   ],
   "source": [
    "bert = BERT().to(device)\n",
    "generator_g2 = GeneratorG2().to(device)\n",
    "discriminator = Discriminator(6).to(device)\n",
    "accs_g2_3 = train_gan_g2(generator_g2, discriminator, bert, sample_3_loader, epochs=3)\n",
    "plot(accs_g2_3, 'GAN-BERT G2 10%')"
   ]
  },
  {
   "cell_type": "markdown",
   "metadata": {},
   "source": [
    "### 50%"
   ]
  },
  {
   "cell_type": "code",
   "execution_count": 26,
   "metadata": {},
   "outputs": [
    {
     "name": "stderr",
     "output_type": "stream",
     "text": [
      "Loss G: 0.5633 - Loss D: 3.6084: 100%|██████████| 555/555 [33:05<00:00,  3.58s/it] \n",
      "Accuracy: 0.16666666666666666: 100%|██████████| 47/47 [01:11<00:00,  1.52s/it]\n"
     ]
    },
    {
     "name": "stdout",
     "output_type": "stream",
     "text": [
      "Epoch 1/3 - Accuracy: 0.16666666666666666\n"
     ]
    },
    {
     "name": "stderr",
     "output_type": "stream",
     "text": [
      "Loss G: 1.4486 - Loss D: 2.9567: 100%|██████████| 555/555 [41:32<00:00,  4.49s/it]\n",
      "Accuracy: 0.0: 100%|██████████| 47/47 [00:16<00:00,  2.87it/s]\n"
     ]
    },
    {
     "name": "stdout",
     "output_type": "stream",
     "text": [
      "Epoch 2/3 - Accuracy: 0.0\n"
     ]
    },
    {
     "name": "stderr",
     "output_type": "stream",
     "text": [
      "Loss G: 3.5583 - Loss D: 1.9689: 100%|██████████| 555/555 [35:04<00:00,  3.79s/it]\n",
      "Accuracy: 0.16666666666666666: 100%|██████████| 47/47 [01:19<00:00,  1.68s/it]"
     ]
    },
    {
     "name": "stdout",
     "output_type": "stream",
     "text": [
      "Epoch 3/3 - Accuracy: 0.16666666666666666\n"
     ]
    },
    {
     "name": "stderr",
     "output_type": "stream",
     "text": [
      "\n"
     ]
    },
    {
     "data": {
      "image/png": "[encoded data removed]",
      "text/plain": [
       "<Figure size 640x480 with 1 Axes>"
      ]
     },
     "metadata": {},
     "output_type": "display_data"
    }
   ],
   "source": [
    "bert = BERT().to(device)\n",
    "generator_g2 = GeneratorG2().to(device)\n",
    "discriminator = Discriminator(6).to(device)\n",
    "accs_g2_4 = train_gan_g2(generator_g2, discriminator, bert, sample_4_loader, epochs=3)\n",
    "plot(accs_g2_4, 'GAN-BERT G2 50%')"
   ]
  },
  {
   "cell_type": "markdown",
   "metadata": {},
   "source": [
    "## Generator G3"
   ]
  },
  {
   "cell_type": "code",
   "execution_count": 8,
   "metadata": {},
   "outputs": [],
   "source": [
    "class GeneratorG3(nn.Module):\n",
    "    def __init__(self):\n",
    "        super(GeneratorG3, self).__init__()\n",
    "        self.fc1 = nn.Linear(100, 2048)\n",
    "        self.leaky_relu = nn.LeakyReLU(0.2)\n",
    "        self.dropout = nn.Dropout(0.2)\n",
    "        self.fc2 = nn.Linear(2048, 1024)\n",
    "        self.dropout2 = nn.Dropout(0.2)\n",
    "        self.fc3 = nn.Linear(1024, 768)\n",
    "\n",
    "    def forward(self, x):\n",
    "        x = self.fc1(x)\n",
    "        x = self.leaky_relu(x)\n",
    "        x = self.dropout(x)\n",
    "        x = self.fc2(x)\n",
    "        x = self.leaky_relu(x)\n",
    "        x = self.dropout2(x)\n",
    "        x = self.fc3(x)\n",
    "        return x"
   ]
  },
  {
   "cell_type": "markdown",
   "metadata": {},
   "source": [
    "### 1%"
   ]
  },
  {
   "cell_type": "code",
   "execution_count": 9,
   "metadata": {},
   "outputs": [
    {
     "name": "stderr",
     "output_type": "stream",
     "text": [
      "Loss G: 0.2206 - Loss D: 4.1520: 100%|██████████| 12/12 [00:06<00:00,  1.84it/s]\n",
      "Accuracy: 0.17833333333333334: 100%|██████████| 47/47 [00:07<00:00,  6.48it/s]\n"
     ]
    },
    {
     "name": "stdout",
     "output_type": "stream",
     "text": [
      "Epoch 1/30 - Accuracy: 0.17833333333333334\n"
     ]
    },
    {
     "name": "stderr",
     "output_type": "stream",
     "text": [
      "Loss G: 0.3378 - Loss D: 3.4653: 100%|██████████| 12/12 [00:05<00:00,  2.20it/s]\n",
      "Accuracy: 0.205: 100%|██████████| 47/47 [00:07<00:00,  6.33it/s]              \n"
     ]
    },
    {
     "name": "stdout",
     "output_type": "stream",
     "text": [
      "Epoch 2/30 - Accuracy: 0.205\n"
     ]
    },
    {
     "name": "stderr",
     "output_type": "stream",
     "text": [
      "Loss G: 0.3365 - Loss D: 3.7028: 100%|██████████| 12/12 [00:05<00:00,  2.08it/s]\n",
      "Accuracy: 0.13633333333333333: 100%|██████████| 47/47 [00:07<00:00,  6.22it/s]\n"
     ]
    },
    {
     "name": "stdout",
     "output_type": "stream",
     "text": [
      "Epoch 3/30 - Accuracy: 0.13633333333333333\n"
     ]
    },
    {
     "name": "stderr",
     "output_type": "stream",
     "text": [
      "Loss G: 0.3258 - Loss D: 4.8107: 100%|██████████| 12/12 [00:05<00:00,  2.07it/s]\n",
      "Accuracy: 0.289: 100%|██████████| 47/47 [00:07<00:00,  6.14it/s]              \n"
     ]
    },
    {
     "name": "stdout",
     "output_type": "stream",
     "text": [
      "Epoch 4/30 - Accuracy: 0.289\n"
     ]
    },
    {
     "name": "stderr",
     "output_type": "stream",
     "text": [
      "Loss G: 0.2183 - Loss D: 5.0149: 100%|██████████| 12/12 [00:05<00:00,  2.04it/s]\n",
      "Accuracy: 0.17633333333333334: 100%|██████████| 47/47 [00:07<00:00,  5.91it/s]\n"
     ]
    },
    {
     "name": "stdout",
     "output_type": "stream",
     "text": [
      "Epoch 5/30 - Accuracy: 0.17633333333333334\n"
     ]
    },
    {
     "name": "stderr",
     "output_type": "stream",
     "text": [
      "Loss G: 0.3079 - Loss D: 4.7548: 100%|██████████| 12/12 [00:06<00:00,  1.93it/s]\n",
      "Accuracy: 0.175: 100%|██████████| 47/47 [00:07<00:00,  5.94it/s]              \n"
     ]
    },
    {
     "name": "stdout",
     "output_type": "stream",
     "text": [
      "Epoch 6/30 - Accuracy: 0.175\n"
     ]
    },
    {
     "name": "stderr",
     "output_type": "stream",
     "text": [
      "Loss G: 0.3596 - Loss D: 3.6722: 100%|██████████| 12/12 [00:06<00:00,  1.91it/s]\n",
      "Accuracy: 0.219: 100%|██████████| 47/47 [00:08<00:00,  5.42it/s]              \n"
     ]
    },
    {
     "name": "stdout",
     "output_type": "stream",
     "text": [
      "Epoch 7/30 - Accuracy: 0.219\n"
     ]
    },
    {
     "name": "stderr",
     "output_type": "stream",
     "text": [
      "Loss G: 0.3591 - Loss D: 3.8794: 100%|██████████| 12/12 [00:06<00:00,  1.86it/s]\n",
      "Accuracy: 0.239: 100%|██████████| 47/47 [00:09<00:00,  5.19it/s]              \n"
     ]
    },
    {
     "name": "stdout",
     "output_type": "stream",
     "text": [
      "Epoch 8/30 - Accuracy: 0.239\n"
     ]
    },
    {
     "name": "stderr",
     "output_type": "stream",
     "text": [
      "Loss G: 0.2401 - Loss D: 4.3077: 100%|██████████| 12/12 [00:06<00:00,  1.84it/s]\n",
      "Accuracy: 0.23333333333333334: 100%|██████████| 47/47 [00:09<00:00,  4.86it/s]\n"
     ]
    },
    {
     "name": "stdout",
     "output_type": "stream",
     "text": [
      "Epoch 9/30 - Accuracy: 0.23333333333333334\n"
     ]
    },
    {
     "name": "stderr",
     "output_type": "stream",
     "text": [
      "Loss G: 0.3926 - Loss D: 4.0398: 100%|██████████| 12/12 [00:06<00:00,  1.78it/s]\n",
      "Accuracy: 0.2763333333333333: 100%|██████████| 47/47 [00:09<00:00,  4.79it/s] \n"
     ]
    },
    {
     "name": "stdout",
     "output_type": "stream",
     "text": [
      "Epoch 10/30 - Accuracy: 0.2763333333333333\n"
     ]
    },
    {
     "name": "stderr",
     "output_type": "stream",
     "text": [
      "Loss G: 0.2954 - Loss D: 3.5095: 100%|██████████| 12/12 [00:06<00:00,  1.72it/s]\n",
      "Accuracy: 0.386: 100%|██████████| 47/47 [00:09<00:00,  4.79it/s]              \n"
     ]
    },
    {
     "name": "stdout",
     "output_type": "stream",
     "text": [
      "Epoch 11/30 - Accuracy: 0.386\n"
     ]
    },
    {
     "name": "stderr",
     "output_type": "stream",
     "text": [
      "Loss G: 0.4009 - Loss D: 3.2747: 100%|██████████| 12/12 [00:07<00:00,  1.69it/s]\n",
      "Accuracy: 0.373: 100%|██████████| 47/47 [00:10<00:00,  4.69it/s]              \n"
     ]
    },
    {
     "name": "stdout",
     "output_type": "stream",
     "text": [
      "Epoch 12/30 - Accuracy: 0.373\n"
     ]
    },
    {
     "name": "stderr",
     "output_type": "stream",
     "text": [
      "Loss G: 0.4703 - Loss D: 3.3777: 100%|██████████| 12/12 [00:07<00:00,  1.68it/s]\n",
      "Accuracy: 0.37533333333333335: 100%|██████████| 47/47 [00:10<00:00,  4.55it/s]\n"
     ]
    },
    {
     "name": "stdout",
     "output_type": "stream",
     "text": [
      "Epoch 13/30 - Accuracy: 0.37533333333333335\n"
     ]
    },
    {
     "name": "stderr",
     "output_type": "stream",
     "text": [
      "Loss G: 0.4013 - Loss D: 3.4928: 100%|██████████| 12/12 [00:07<00:00,  1.68it/s]\n",
      "Accuracy: 0.3426666666666667: 100%|██████████| 47/47 [00:10<00:00,  4.52it/s] \n"
     ]
    },
    {
     "name": "stdout",
     "output_type": "stream",
     "text": [
      "Epoch 14/30 - Accuracy: 0.3426666666666667\n"
     ]
    },
    {
     "name": "stderr",
     "output_type": "stream",
     "text": [
      "Loss G: 0.3860 - Loss D: 3.6458: 100%|██████████| 12/12 [00:07<00:00,  1.65it/s]\n",
      "Accuracy: 0.3476666666666667: 100%|██████████| 47/47 [00:10<00:00,  4.36it/s] \n"
     ]
    },
    {
     "name": "stdout",
     "output_type": "stream",
     "text": [
      "Epoch 15/30 - Accuracy: 0.3476666666666667\n"
     ]
    },
    {
     "name": "stderr",
     "output_type": "stream",
     "text": [
      "Loss G: 0.4407 - Loss D: 3.0669: 100%|██████████| 12/12 [00:07<00:00,  1.63it/s]\n",
      "Accuracy: 0.3473333333333333: 100%|██████████| 47/47 [00:10<00:00,  4.53it/s] \n"
     ]
    },
    {
     "name": "stdout",
     "output_type": "stream",
     "text": [
      "Epoch 16/30 - Accuracy: 0.3473333333333333\n"
     ]
    },
    {
     "name": "stderr",
     "output_type": "stream",
     "text": [
      "Loss G: 0.4451 - Loss D: 3.4211: 100%|██████████| 12/12 [00:07<00:00,  1.64it/s]\n",
      "Accuracy: 0.327: 100%|██████████| 47/47 [00:10<00:00,  4.52it/s]              \n"
     ]
    },
    {
     "name": "stdout",
     "output_type": "stream",
     "text": [
      "Epoch 17/30 - Accuracy: 0.327\n"
     ]
    },
    {
     "name": "stderr",
     "output_type": "stream",
     "text": [
      "Loss G: 0.3518 - Loss D: 3.1658: 100%|██████████| 12/12 [00:07<00:00,  1.66it/s]\n",
      "Accuracy: 0.35533333333333333: 100%|██████████| 47/47 [00:10<00:00,  4.34it/s]\n"
     ]
    },
    {
     "name": "stdout",
     "output_type": "stream",
     "text": [
      "Epoch 18/30 - Accuracy: 0.35533333333333333\n"
     ]
    },
    {
     "name": "stderr",
     "output_type": "stream",
     "text": [
      "Loss G: 0.3304 - Loss D: 2.6047: 100%|██████████| 12/12 [00:07<00:00,  1.62it/s]\n",
      "Accuracy: 0.3263333333333333: 100%|██████████| 47/47 [00:10<00:00,  4.32it/s] \n"
     ]
    },
    {
     "name": "stdout",
     "output_type": "stream",
     "text": [
      "Epoch 19/30 - Accuracy: 0.3263333333333333\n"
     ]
    },
    {
     "name": "stderr",
     "output_type": "stream",
     "text": [
      "Loss G: 0.3224 - Loss D: 3.7291: 100%|██████████| 12/12 [00:07<00:00,  1.62it/s]\n",
      "Accuracy: 0.4736666666666667: 100%|██████████| 47/47 [00:10<00:00,  4.48it/s] \n"
     ]
    },
    {
     "name": "stdout",
     "output_type": "stream",
     "text": [
      "Epoch 20/30 - Accuracy: 0.4736666666666667\n"
     ]
    },
    {
     "name": "stderr",
     "output_type": "stream",
     "text": [
      "Loss G: 0.4450 - Loss D: 3.0005: 100%|██████████| 12/12 [00:07<00:00,  1.64it/s]\n",
      "Accuracy: 0.3343333333333333: 100%|██████████| 47/47 [00:10<00:00,  4.40it/s] \n"
     ]
    },
    {
     "name": "stdout",
     "output_type": "stream",
     "text": [
      "Epoch 21/30 - Accuracy: 0.3343333333333333\n"
     ]
    },
    {
     "name": "stderr",
     "output_type": "stream",
     "text": [
      "Loss G: 0.3858 - Loss D: 2.8630: 100%|██████████| 12/12 [00:07<00:00,  1.62it/s]\n",
      "Accuracy: 0.4196666666666667: 100%|██████████| 47/47 [00:10<00:00,  4.28it/s] \n"
     ]
    },
    {
     "name": "stdout",
     "output_type": "stream",
     "text": [
      "Epoch 22/30 - Accuracy: 0.4196666666666667\n"
     ]
    },
    {
     "name": "stderr",
     "output_type": "stream",
     "text": [
      "Loss G: 0.3578 - Loss D: 3.2380: 100%|██████████| 12/12 [00:07<00:00,  1.59it/s]\n",
      "Accuracy: 0.4046666666666667: 100%|██████████| 47/47 [00:10<00:00,  4.29it/s] \n"
     ]
    },
    {
     "name": "stdout",
     "output_type": "stream",
     "text": [
      "Epoch 23/30 - Accuracy: 0.4046666666666667\n"
     ]
    },
    {
     "name": "stderr",
     "output_type": "stream",
     "text": [
      "Loss G: 0.5211 - Loss D: 3.4681: 100%|██████████| 12/12 [00:07<00:00,  1.61it/s]\n",
      "Accuracy: 0.3953333333333333: 100%|██████████| 47/47 [00:10<00:00,  4.43it/s] \n"
     ]
    },
    {
     "name": "stdout",
     "output_type": "stream",
     "text": [
      "Epoch 24/30 - Accuracy: 0.3953333333333333\n"
     ]
    },
    {
     "name": "stderr",
     "output_type": "stream",
     "text": [
      "Loss G: 0.3797 - Loss D: 3.1628: 100%|██████████| 12/12 [00:07<00:00,  1.63it/s]\n",
      "Accuracy: 0.3473333333333333: 100%|██████████| 47/47 [00:10<00:00,  4.38it/s] \n"
     ]
    },
    {
     "name": "stdout",
     "output_type": "stream",
     "text": [
      "Epoch 25/30 - Accuracy: 0.3473333333333333\n"
     ]
    },
    {
     "name": "stderr",
     "output_type": "stream",
     "text": [
      "Loss G: 0.3615 - Loss D: 3.0256: 100%|██████████| 12/12 [00:07<00:00,  1.55it/s]\n",
      "Accuracy: 0.41333333333333333: 100%|██████████| 47/47 [00:10<00:00,  4.36it/s]\n"
     ]
    },
    {
     "name": "stdout",
     "output_type": "stream",
     "text": [
      "Epoch 26/30 - Accuracy: 0.41333333333333333\n"
     ]
    },
    {
     "name": "stderr",
     "output_type": "stream",
     "text": [
      "Loss G: 0.8179 - Loss D: 3.1922: 100%|██████████| 12/12 [00:08<00:00,  1.49it/s]\n",
      "Accuracy: 0.401: 100%|██████████| 47/47 [00:11<00:00,  4.22it/s]              \n"
     ]
    },
    {
     "name": "stdout",
     "output_type": "stream",
     "text": [
      "Epoch 27/30 - Accuracy: 0.401\n"
     ]
    },
    {
     "name": "stderr",
     "output_type": "stream",
     "text": [
      "Loss G: 0.4494 - Loss D: 2.9752: 100%|██████████| 12/12 [00:07<00:00,  1.59it/s]\n",
      "Accuracy: 0.388: 100%|██████████| 47/47 [00:10<00:00,  4.32it/s]              \n"
     ]
    },
    {
     "name": "stdout",
     "output_type": "stream",
     "text": [
      "Epoch 28/30 - Accuracy: 0.388\n"
     ]
    },
    {
     "name": "stderr",
     "output_type": "stream",
     "text": [
      "Loss G: 0.3869 - Loss D: 3.0580: 100%|██████████| 12/12 [00:07<00:00,  1.61it/s]\n",
      "Accuracy: 0.42233333333333334: 100%|██████████| 47/47 [00:11<00:00,  4.12it/s]\n"
     ]
    },
    {
     "name": "stdout",
     "output_type": "stream",
     "text": [
      "Epoch 29/30 - Accuracy: 0.42233333333333334\n"
     ]
    },
    {
     "name": "stderr",
     "output_type": "stream",
     "text": [
      "Loss G: 0.5998 - Loss D: 2.8792: 100%|██████████| 12/12 [00:07<00:00,  1.60it/s]\n",
      "Accuracy: 0.417: 100%|██████████| 47/47 [00:11<00:00,  4.21it/s]              \n"
     ]
    },
    {
     "name": "stdout",
     "output_type": "stream",
     "text": [
      "Epoch 30/30 - Accuracy: 0.417\n"
     ]
    },
    {
     "data": {
      "image/png": "[encoded data removed]",
      "text/plain": [
       "<Figure size 640x480 with 1 Axes>"
      ]
     },
     "metadata": {},
     "output_type": "display_data"
    }
   ],
   "source": [
    "bert = BERT().to(device)\n",
    "generator_g3 = GeneratorG3().to(device)\n",
    "discriminator = Discriminator(6).to(device)\n",
    "accs_g3_1 = train_gan_g1(generator_g3, discriminator, bert, sample_1_loader, epochs=30)\n",
    "plot(accs_g3_1, 'GAN-BERT G3 1%')"
   ]
  },
  {
   "cell_type": "markdown",
   "metadata": {},
   "source": [
    "### 5%"
   ]
  },
  {
   "cell_type": "code",
   "execution_count": 10,
   "metadata": {},
   "outputs": [
    {
     "name": "stderr",
     "output_type": "stream",
     "text": [
      "Loss G: 0.2333 - Loss D: 5.1688: 100%|██████████| 56/56 [00:36<00:00,  1.55it/s]\n",
      "Accuracy: 0.142: 100%|██████████| 47/47 [00:10<00:00,  4.30it/s]              \n"
     ]
    },
    {
     "name": "stdout",
     "output_type": "stream",
     "text": [
      "Epoch 1/6 - Accuracy: 0.142\n"
     ]
    },
    {
     "name": "stderr",
     "output_type": "stream",
     "text": [
      "Loss G: 0.2080 - Loss D: 3.6751: 100%|██████████| 56/56 [00:37<00:00,  1.49it/s]\n",
      "Accuracy: 0.20633333333333334: 100%|██████████| 47/47 [00:11<00:00,  4.04it/s]\n"
     ]
    },
    {
     "name": "stdout",
     "output_type": "stream",
     "text": [
      "Epoch 2/6 - Accuracy: 0.20633333333333334\n"
     ]
    },
    {
     "name": "stderr",
     "output_type": "stream",
     "text": [
      "Loss G: 0.2711 - Loss D: 3.3630: 100%|██████████| 56/56 [00:37<00:00,  1.50it/s]\n",
      "Accuracy: 0.43666666666666665: 100%|██████████| 47/47 [00:11<00:00,  4.21it/s]\n"
     ]
    },
    {
     "name": "stdout",
     "output_type": "stream",
     "text": [
      "Epoch 3/6 - Accuracy: 0.43666666666666665\n"
     ]
    },
    {
     "name": "stderr",
     "output_type": "stream",
     "text": [
      "Loss G: 0.3150 - Loss D: 3.4044: 100%|██████████| 56/56 [00:37<00:00,  1.50it/s]\n",
      "Accuracy: 0.43966666666666665: 100%|██████████| 47/47 [00:11<00:00,  4.19it/s]\n"
     ]
    },
    {
     "name": "stdout",
     "output_type": "stream",
     "text": [
      "Epoch 4/6 - Accuracy: 0.43966666666666665\n"
     ]
    },
    {
     "name": "stderr",
     "output_type": "stream",
     "text": [
      "Loss G: 0.3576 - Loss D: 3.1676: 100%|██████████| 56/56 [00:38<00:00,  1.44it/s]\n",
      "Accuracy: 0.475: 100%|██████████| 47/47 [00:11<00:00,  3.98it/s]              \n"
     ]
    },
    {
     "name": "stdout",
     "output_type": "stream",
     "text": [
      "Epoch 5/6 - Accuracy: 0.475\n"
     ]
    },
    {
     "name": "stderr",
     "output_type": "stream",
     "text": [
      "Loss G: 0.5289 - Loss D: 2.5591: 100%|██████████| 56/56 [00:38<00:00,  1.46it/s]\n",
      "Accuracy: 0.48133333333333334: 100%|██████████| 47/47 [00:11<00:00,  4.03it/s]\n"
     ]
    },
    {
     "name": "stdout",
     "output_type": "stream",
     "text": [
      "Epoch 6/6 - Accuracy: 0.48133333333333334\n"
     ]
    },
    {
     "data": {
      "image/png": "[encoded data removed]",
      "text/plain": [
       "<Figure size 640x480 with 1 Axes>"
      ]
     },
     "metadata": {},
     "output_type": "display_data"
    }
   ],
   "source": [
    "bert = BERT().to(device)\n",
    "generator_g3 = GeneratorG3().to(device)\n",
    "discriminator = Discriminator(6).to(device)\n",
    "accs_g3_2 = train_gan_g1(generator_g3, discriminator, bert, sample_2_loader, epochs=6)\n",
    "plot(accs_g3_2, 'GAN-BERT G3 5%')"
   ]
  },
  {
   "cell_type": "markdown",
   "metadata": {},
   "source": [
    "### 10%"
   ]
  },
  {
   "cell_type": "code",
   "execution_count": 11,
   "metadata": {},
   "outputs": [
    {
     "name": "stderr",
     "output_type": "stream",
     "text": [
      "Loss G: 0.3051 - Loss D: 3.7291: 100%|██████████| 111/111 [01:16<00:00,  1.46it/s]\n",
      "Accuracy: 0.2856666666666667: 100%|██████████| 47/47 [00:12<00:00,  3.89it/s] \n"
     ]
    },
    {
     "name": "stdout",
     "output_type": "stream",
     "text": [
      "Epoch 1/3 - Accuracy: 0.2856666666666667\n"
     ]
    },
    {
     "name": "stderr",
     "output_type": "stream",
     "text": [
      "Loss G: 0.3244 - Loss D: 3.0641: 100%|██████████| 111/111 [01:17<00:00,  1.43it/s]\n",
      "Accuracy: 0.467: 100%|██████████| 47/47 [00:11<00:00,  4.04it/s]              \n"
     ]
    },
    {
     "name": "stdout",
     "output_type": "stream",
     "text": [
      "Epoch 2/3 - Accuracy: 0.467\n"
     ]
    },
    {
     "name": "stderr",
     "output_type": "stream",
     "text": [
      "Loss G: 0.4514 - Loss D: 2.6607: 100%|██████████| 111/111 [01:16<00:00,  1.46it/s]\n",
      "Accuracy: 0.4706666666666667: 100%|██████████| 47/47 [00:11<00:00,  4.11it/s] "
     ]
    },
    {
     "name": "stdout",
     "output_type": "stream",
     "text": [
      "Epoch 3/3 - Accuracy: 0.4706666666666667\n"
     ]
    },
    {
     "name": "stderr",
     "output_type": "stream",
     "text": [
      "\n"
     ]
    },
    {
     "data": {
      "image/png": "[encoded data removed]",
      "text/plain": [
       "<Figure size 640x480 with 1 Axes>"
      ]
     },
     "metadata": {},
     "output_type": "display_data"
    }
   ],
   "source": [
    "bert = BERT().to(device)\n",
    "generator_g3 = GeneratorG3().to(device)\n",
    "discriminator = Discriminator(6).to(device)\n",
    "accs_g3_3 = train_gan_g1(generator_g3, discriminator, bert, sample_3_loader, epochs=3)\n",
    "plot(accs_g3_3, 'GAN-BERT G3 10%')"
   ]
  },
  {
   "cell_type": "markdown",
   "metadata": {},
   "source": [
    "### 50%"
   ]
  },
  {
   "cell_type": "code",
   "execution_count": 12,
   "metadata": {},
   "outputs": [
    {
     "name": "stderr",
     "output_type": "stream",
     "text": [
      "Loss G: 0.9947 - Loss D: 2.0715: 100%|██████████| 555/555 [06:12<00:00,  1.49it/s]\n",
      "Accuracy: 0.451: 100%|██████████| 47/47 [00:11<00:00,  4.21it/s]              \n"
     ]
    },
    {
     "name": "stdout",
     "output_type": "stream",
     "text": [
      "Epoch 1/3 - Accuracy: 0.451\n"
     ]
    },
    {
     "name": "stderr",
     "output_type": "stream",
     "text": [
      "Loss G: 1.4653 - Loss D: 0.9952: 100%|██████████| 555/555 [06:19<00:00,  1.46it/s]\n",
      "Accuracy: 0.48: 100%|██████████| 47/47 [00:11<00:00,  3.96it/s]               \n"
     ]
    },
    {
     "name": "stdout",
     "output_type": "stream",
     "text": [
      "Epoch 2/3 - Accuracy: 0.48\n"
     ]
    },
    {
     "name": "stderr",
     "output_type": "stream",
     "text": [
      "Loss G: 2.4516 - Loss D: 0.8960: 100%|██████████| 555/555 [06:50<00:00,  1.35it/s]\n",
      "Accuracy: 0.503: 100%|██████████| 47/47 [00:34<00:00,  1.36it/s]              \n"
     ]
    },
    {
     "name": "stdout",
     "output_type": "stream",
     "text": [
      "Epoch 3/3 - Accuracy: 0.503\n"
     ]
    },
    {
     "data": {
      "image/png": "[encoded data removed]",
      "text/plain": [
       "<Figure size 640x480 with 1 Axes>"
      ]
     },
     "metadata": {},
     "output_type": "display_data"
    }
   ],
   "source": [
    "bert = BERT().to(device)\n",
    "generator_g3 = GeneratorG3().to(device)\n",
    "discriminator = Discriminator(6).to(device)\n",
    "accs_g3_4 = train_gan_g1(generator_g3, discriminator, bert, sample_4_loader, epochs=3)\n",
    "plot(accs_g3_4, 'GAN-BERT G3 50%')"
   ]
  },
  {
   "cell_type": "markdown",
   "metadata": {},
   "source": [
    "# BERT Deep Classifier"
   ]
  },
  {
   "cell_type": "code",
   "execution_count": 22,
   "metadata": {},
   "outputs": [],
   "source": [
    "class BERTDeepClassifier(nn.Module):\n",
    "    def __init__(self, num_classes):\n",
    "        super(BERTDeepClassifier, self).__init__()\n",
    "        self.bert = AutoModel.from_pretrained('bert-base-cased')\n",
    "        self.classifier = nn.Sequential(\n",
    "            nn.Linear(768, 1024),\n",
    "            nn.ReLU(),\n",
    "            nn.Dropout(0.3),\n",
    "            nn.Linear(1024, 2048),\n",
    "            nn.ReLU(),\n",
    "            nn.Dropout(0.3),\n",
    "            nn.Linear(2048, num_classes)\n",
    "        )\n",
    "    \n",
    "    def forward(self, input_ids, attention_mask):\n",
    "        outputs = self.bert(input_ids, attention_mask=attention_mask)\n",
    "        return self.classifier(outputs.pooler_output)"
   ]
  },
  {
   "cell_type": "code",
   "execution_count": 23,
   "metadata": {},
   "outputs": [
    {
     "name": "stderr",
     "output_type": "stream",
     "text": [
      "Epoch 1/3: 100%|██████████| 222/222 [12:17<00:00,  3.32s/it]\n",
      "Accuracy: 0.45966666666666667: 100%|██████████| 47/47 [00:55<00:00,  1.19s/it]\n"
     ]
    },
    {
     "name": "stdout",
     "output_type": "stream",
     "text": [
      "Epoch 1/3 - Accuracy: 0.45966666666666667\n"
     ]
    },
    {
     "name": "stderr",
     "output_type": "stream",
     "text": [
      "Epoch 2/3: 100%|██████████| 222/222 [13:51<00:00,  3.74s/it]\n",
      "Accuracy: 0.477: 100%|██████████| 47/47 [01:17<00:00,  1.65s/it]              \n"
     ]
    },
    {
     "name": "stdout",
     "output_type": "stream",
     "text": [
      "Epoch 2/3 - Accuracy: 0.477\n"
     ]
    },
    {
     "name": "stderr",
     "output_type": "stream",
     "text": [
      "Epoch 3/3: 100%|██████████| 222/222 [11:32<00:00,  3.12s/it]\n",
      "Accuracy: 0.486: 100%|██████████| 47/47 [00:54<00:00,  1.15s/it]              \n"
     ]
    },
    {
     "name": "stdout",
     "output_type": "stream",
     "text": [
      "Epoch 3/3 - Accuracy: 0.486\n"
     ]
    },
    {
     "data": {
      "image/png": "[encoded data removed]",
      "text/plain": [
       "<Figure size 640x480 with 1 Axes>"
      ]
     },
     "metadata": {},
     "output_type": "display_data"
    }
   ],
   "source": [
    "model = BERTDeepClassifier(6).to(device)\n",
    "accs_d_3 = train(model, sample_3_loader, epochs=3)\n",
    "plot(accs_d_3, 'BERT Deep 10%')"
   ]
  }
 ],
 "metadata": {
  "kernelspec": {
   "display_name": "Python 3",
   "language": "python",
   "name": "python3"
  },
  "language_info": {
   "codemirror_mode": {
    "name": "ipython",
    "version": 3
   },
   "file_extension": ".py",
   "mimetype": "text/x-python",
   "name": "python",
   "nbconvert_exporter": "python",
   "pygments_lexer": "ipython3",
   "version": "3.9.13"
  }
 },
 "nbformat": 4,
 "nbformat_minor": 2
}
